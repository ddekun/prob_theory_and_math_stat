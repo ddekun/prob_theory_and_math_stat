{
  "nbformat": 4,
  "nbformat_minor": 0,
  "metadata": {
    "colab": {
      "name": "hw1.ipynb",
      "provenance": [],
      "collapsed_sections": [],
      "mount_file_id": "15-oeL2T5ArlcZWalacJiZg_JpyIQ8GxH",
      "authorship_tag": "ABX9TyPfg+ewh+OKJzf6WVLXlfFM",
      "include_colab_link": true
    },
    "kernelspec": {
      "name": "python3",
      "display_name": "Python 3"
    },
    "language_info": {
      "name": "python"
    }
  },
  "cells": [
    {
      "cell_type": "markdown",
      "metadata": {
        "id": "view-in-github",
        "colab_type": "text"
      },
      "source": [
        "<a href=\"https://colab.research.google.com/github/ddekun/prob_theory_and_math_stat/blob/lesson1/hw1.ipynb\" target=\"_parent\"><img src=\"https://colab.research.google.com/assets/colab-badge.svg\" alt=\"Open In Colab\"/></a>"
      ]
    },
    {
      "cell_type": "markdown",
      "source": [
        "# **Урок 1. Случайные события. Условная вероятность. Формула Байеса. Независимые испытания**"
      ],
      "metadata": {
        "id": "sIsk-_Iz5DGA"
      }
    },
    {
      "cell_type": "code",
      "source": [
        "from math import factorial"
      ],
      "metadata": {
        "id": "ppEcs6Qf5Vtg"
      },
      "execution_count": 1,
      "outputs": []
    },
    {
      "cell_type": "markdown",
      "source": [
        "### **Напишем функции, чтобы вычислить количество сочетаний, перестановок и размещений.**"
      ],
      "metadata": {
        "id": "wUqayckTwxXx"
      }
    },
    {
      "cell_type": "markdown",
      "source": [
        "Число сочетаний из  n  элементов по  k  элементов в каждом (в сочетаниях порядок не важен)."
      ],
      "metadata": {
        "id": "xg_XiumDwDUT"
      }
    },
    {
      "cell_type": "code",
      "source": [
        "def combinations(n, k):\n",
        "    return int(factorial(n) / (factorial(k) * factorial(n - k)))"
      ],
      "metadata": {
        "id": "CFevKPPlcWsS"
      },
      "execution_count": 2,
      "outputs": []
    },
    {
      "cell_type": "markdown",
      "source": [
        "Число перестановок из  n  элементов — при перестановках важен порядок, но отличие от размещений в том, что применяются все имеющиеся  n  элементов."
      ],
      "metadata": {
        "id": "5GJ4OtfsweF0"
      }
    },
    {
      "cell_type": "code",
      "source": [
        "def permutations(n):\n",
        "    return int(factorial(n))"
      ],
      "metadata": {
        "id": "UJNN32Gdv-uY"
      },
      "execution_count": 11,
      "outputs": []
    },
    {
      "cell_type": "markdown",
      "source": [
        "Определим число размещений из  n  элементов по  k  элементов в каждом. При размещениях порядок важен, поэтому вариантов размещения может быть больше, чем сочетаний при заданных  k  и  n ."
      ],
      "metadata": {
        "id": "uApP5Q4awNkP"
      }
    },
    {
      "cell_type": "code",
      "source": [
        "def arrangements(n, k):\n",
        "    return int(factorial(n) / factorial(n - k))"
      ],
      "metadata": {
        "id": "TGCJF2Jzv6QL"
      },
      "execution_count": 10,
      "outputs": []
    },
    {
      "cell_type": "markdown",
      "source": [
        "### 1. Из колоды в 52 карты извлекаются случайным образом 4 карты. a) Найти вероятность того, что все карты – крести. б) Найти вероятность, что среди 4-х карт окажется хотя бы один туз."
      ],
      "metadata": {
        "id": "hOTLCm5PwrkZ"
      }
    },
    {
      "cell_type": "code",
      "source": [
        "n = combinations(52, 4)"
      ],
      "metadata": {
        "id": "5vAT0omyc93C"
      },
      "execution_count": 36,
      "outputs": []
    },
    {
      "cell_type": "code",
      "source": [
        "m = combinations(13, 4)"
      ],
      "metadata": {
        "id": "EEhmeeIddjuu"
      },
      "execution_count": 37,
      "outputs": []
    },
    {
      "cell_type": "code",
      "source": [
        "print(f'Вероятность того, что все карты – крести: {m / n:.5f}')"
      ],
      "metadata": {
        "colab": {
          "base_uri": "https://localhost:8080/"
        },
        "id": "Ir5U97W4uDYX",
        "outputId": "a7a5ea4a-1c1c-4931-9d56-0af565e67a75"
      },
      "execution_count": 38,
      "outputs": [
        {
          "output_type": "stream",
          "name": "stdout",
          "text": [
            "Вероятность того, что все карты – крести: 0.00264\n"
          ]
        }
      ]
    },
    {
      "cell_type": "code",
      "source": [
        "m1 = combinations(4, 1)\n",
        "m2 = combinations(4, 2)\n",
        "m3 = combinations(4, 3)\n",
        "m4 = combinations(4, 4)\n",
        "m1, m2, m3, m4"
      ],
      "metadata": {
        "colab": {
          "base_uri": "https://localhost:8080/"
        },
        "id": "Hnr8QZllCgNq",
        "outputId": "08b52c21-79e6-41b6-f575-a154f82e28b8"
      },
      "execution_count": 39,
      "outputs": [
        {
          "output_type": "execute_result",
          "data": {
            "text/plain": [
              "(4, 6, 4, 1)"
            ]
          },
          "metadata": {},
          "execution_count": 39
        }
      ]
    },
    {
      "cell_type": "code",
      "source": [
        "n0 = combinations(48, 0)\n",
        "n1 = combinations(48, 1)\n",
        "n2 = combinations(48, 2)\n",
        "n3 = combinations(48, 3)\n",
        "n0, n1, n2, n3"
      ],
      "metadata": {
        "colab": {
          "base_uri": "https://localhost:8080/"
        },
        "id": "OyyBDol0vP6h",
        "outputId": "f276db26-4bec-4f21-9bf9-083c48145615"
      },
      "execution_count": 40,
      "outputs": [
        {
          "output_type": "execute_result",
          "data": {
            "text/plain": [
              "(1, 48, 1128, 17296)"
            ]
          },
          "metadata": {},
          "execution_count": 40
        }
      ]
    },
    {
      "cell_type": "code",
      "source": [
        "p1 = m1 * n3 / n\n",
        "p2 = m2 * n2 / n\n",
        "p3 = m3 * n1 / n\n",
        "p4 = m4 * n0 / n\n",
        "p1, p2, p3, p4"
      ],
      "metadata": {
        "colab": {
          "base_uri": "https://localhost:8080/"
        },
        "id": "4qSDobhqvqv_",
        "outputId": "35b1f10a-6218-40e3-b2c2-35fd58f18574"
      },
      "execution_count": 41,
      "outputs": [
        {
          "output_type": "execute_result",
          "data": {
            "text/plain": [
              "(0.25555083571890297,\n",
              " 0.0249995382768492,\n",
              " 0.0007092067596269276,\n",
              " 3.6937852063902484e-06)"
            ]
          },
          "metadata": {},
          "execution_count": 41
        }
      ]
    },
    {
      "cell_type": "code",
      "source": [
        "p = p1 + p2 + p3 + p4"
      ],
      "metadata": {
        "id": "Q4O1OMqQFVRu"
      },
      "execution_count": 42,
      "outputs": []
    },
    {
      "cell_type": "code",
      "source": [
        "print(f'Вероятность, что среди 4-х карт окажется хотя бы один туз: {p:.2f}')"
      ],
      "metadata": {
        "colab": {
          "base_uri": "https://localhost:8080/"
        },
        "id": "PKsmp84594h9",
        "outputId": "b7fea5fc-b470-44e1-c2fa-905ebfda3735"
      },
      "execution_count": 43,
      "outputs": [
        {
          "output_type": "stream",
          "name": "stdout",
          "text": [
            "Вероятность, что среди 4-х карт окажется хотя бы один туз: 0.28\n"
          ]
        }
      ]
    },
    {
      "cell_type": "markdown",
      "source": [
        "### 2. На входной двери подъезда установлен кодовый замок, содержащий десять кнопок с цифрами от 0 до 9. Код содержит три цифры, которые нужно нажать одновременно. Какова вероятность того, что человек, не знающий код, откроет дверь с первой попытки?"
      ],
      "metadata": {
        "id": "0K7RaRxVFeuV"
      }
    },
    {
      "cell_type": "code",
      "source": [
        "n = combinations(10, 3)\n",
        "n"
      ],
      "metadata": {
        "id": "h4UGr7lrFlCX",
        "colab": {
          "base_uri": "https://localhost:8080/"
        },
        "outputId": "417be906-0c9d-468a-93f2-8dd3a089419f"
      },
      "execution_count": 6,
      "outputs": [
        {
          "output_type": "execute_result",
          "data": {
            "text/plain": [
              "120"
            ]
          },
          "metadata": {},
          "execution_count": 6
        }
      ]
    },
    {
      "cell_type": "code",
      "source": [
        "p = 1 / n\n"
      ],
      "metadata": {
        "id": "XpgbzgJ0t_kB"
      },
      "execution_count": 14,
      "outputs": []
    },
    {
      "cell_type": "code",
      "source": [
        "\n",
        "P = 1 / (factorial(10) / (factorial(3) * factorial(10 - 3)))\n",
        "print(f'Вероятность того, что дверь открыта с первой попытки = {P:.4f}')\n",
        "         "
      ],
      "metadata": {
        "colab": {
          "base_uri": "https://localhost:8080/"
        },
        "id": "dWLfmzeRz3mN",
        "outputId": "50e34d6c-3154-485b-d934-c4cf0188b351"
      },
      "execution_count": 30,
      "outputs": [
        {
          "output_type": "stream",
          "name": "stdout",
          "text": [
            "Вероятность того, что дверь открыта с первой попытки = 0.0083\n"
          ]
        }
      ]
    },
    {
      "cell_type": "code",
      "source": [
        "print(f'Вероятность того, что человек, не знающий код, откроет дверь с первой попытки: {p:.4f}')"
      ],
      "metadata": {
        "colab": {
          "base_uri": "https://localhost:8080/"
        },
        "id": "lls1UrIwzidB",
        "outputId": "b49ac130-542e-48d0-d77d-0f9d3e4c7607"
      },
      "execution_count": 35,
      "outputs": [
        {
          "output_type": "stream",
          "name": "stdout",
          "text": [
            "Вероятность того, что человек, не знающий код, откроет дверь с первой попытки: 0.1846\n"
          ]
        }
      ]
    },
    {
      "cell_type": "markdown",
      "source": [
        "### 3. В ящике имеется 15 деталей, из которых 9 окрашены. Рабочий случайным образом извлекает 3 детали. Какова вероятность того, что все извлеченные детали окрашены?"
      ],
      "metadata": {
        "id": "XIaTmiZrvIdh"
      }
    },
    {
      "cell_type": "code",
      "source": [
        "n = combinations(15, 3)\n",
        "n"
      ],
      "metadata": {
        "colab": {
          "base_uri": "https://localhost:8080/"
        },
        "id": "PEzJDcnCuaCh",
        "outputId": "cee5f527-ff9a-4dda-a7fd-b4488bc8f4fe"
      },
      "execution_count": 44,
      "outputs": [
        {
          "output_type": "execute_result",
          "data": {
            "text/plain": [
              "455"
            ]
          },
          "metadata": {},
          "execution_count": 44
        }
      ]
    },
    {
      "cell_type": "code",
      "source": [
        "m = combinations(9, 3)\n",
        "m"
      ],
      "metadata": {
        "colab": {
          "base_uri": "https://localhost:8080/"
        },
        "id": "OQku0Ngf4L7U",
        "outputId": "f4cff09d-bd42-4aec-c1f0-98d921519358"
      },
      "execution_count": 45,
      "outputs": [
        {
          "output_type": "execute_result",
          "data": {
            "text/plain": [
              "84"
            ]
          },
          "metadata": {},
          "execution_count": 45
        }
      ]
    },
    {
      "cell_type": "code",
      "source": [
        "p = m / n"
      ],
      "metadata": {
        "id": "rIa1WQC14RbY"
      },
      "execution_count": 46,
      "outputs": []
    },
    {
      "cell_type": "code",
      "source": [
        "print(f'Вероятность того, что все извлеченные детали окрашены: {p:.2f}')"
      ],
      "metadata": {
        "colab": {
          "base_uri": "https://localhost:8080/"
        },
        "id": "Fwdy1o9X4gqz",
        "outputId": "aa787266-d189-448a-ae1a-0f9cce372615"
      },
      "execution_count": 47,
      "outputs": [
        {
          "output_type": "stream",
          "name": "stdout",
          "text": [
            "Вероятность того, что все извлеченные детали окрашены: 0.18\n"
          ]
        }
      ]
    },
    {
      "cell_type": "markdown",
      "source": [
        "### 4. В лотерее 100 билетов. Из них 2 выигрышных. Какова вероятность того, что 2 приобретенных билета окажутся выигрышными?"
      ],
      "metadata": {
        "id": "ESZc9911_8J3"
      }
    },
    {
      "cell_type": "code",
      "source": [
        "n = combinations(100, 2)\n",
        "n"
      ],
      "metadata": {
        "colab": {
          "base_uri": "https://localhost:8080/"
        },
        "id": "W0fDfo56AEGq",
        "outputId": "60cdc684-7e65-4e74-ba63-54a890c01815"
      },
      "execution_count": 3,
      "outputs": [
        {
          "output_type": "execute_result",
          "data": {
            "text/plain": [
              "4950"
            ]
          },
          "metadata": {},
          "execution_count": 3
        }
      ]
    },
    {
      "cell_type": "code",
      "source": [
        "m = combinations(2, 2)\n",
        "m"
      ],
      "metadata": {
        "colab": {
          "base_uri": "https://localhost:8080/"
        },
        "id": "Q1VVqXj3EXhr",
        "outputId": "94937aa3-ec11-4600-a060-56109fd1acf4"
      },
      "execution_count": 4,
      "outputs": [
        {
          "output_type": "execute_result",
          "data": {
            "text/plain": [
              "1"
            ]
          },
          "metadata": {},
          "execution_count": 4
        }
      ]
    },
    {
      "cell_type": "code",
      "source": [
        "p = m / n\n"
      ],
      "metadata": {
        "id": "LNV_HclPEdXV"
      },
      "execution_count": 7,
      "outputs": []
    },
    {
      "cell_type": "code",
      "source": [
        "print(f'Вероятность того, что 2 приобретенных билета окажутся выигрышными: {p:.5f}')"
      ],
      "metadata": {
        "colab": {
          "base_uri": "https://localhost:8080/"
        },
        "id": "6SyjQOT8EpuB",
        "outputId": "c782c402-cfe4-4b87-9d40-955538ac134c"
      },
      "execution_count": 8,
      "outputs": [
        {
          "output_type": "stream",
          "name": "stdout",
          "text": [
            "Вероятность того, что 2 приобретенных билета окажутся выигрышными: 0.00020\n"
          ]
        }
      ]
    },
    {
      "cell_type": "markdown",
      "source": [
        "### 5. На соревновании по биатлону один из трех спортсменов стреляет и попадает в мишень. Вероятность попадания для первого спортсмена равна 0.9, для второго — 0.8, для третьего — 0.6. Найти вероятность того, что выстрел произведен: a). первым спортсменом б). вторым спортсменом в). третьим спортсменом."
      ],
      "metadata": {
        "id": "D-wxtJShFOKe"
      }
    },
    {
      "cell_type": "markdown",
      "source": [
        "Прежде чем узнали результат выстрела, мы располагали только априорной вероятностью того, что выстрел был произведен, и она равнялась 1/3 — если учесть, что у всех спортсменов были равные возможности выстрелить."
      ],
      "metadata": {
        "id": "GykzZJblHafg"
      }
    },
    {
      "cell_type": "markdown",
      "source": [
        "Событием $A$ будем считать попадание в мишень, а событиями $B_1, B_2$ и $B_3$ — что выстрел совершил первый, второй или третий спортсмен:"
      ],
      "metadata": {
        "id": "Aghldsy2GkaK"
      }
    },
    {
      "cell_type": "markdown",
      "source": [
        "$$P(A\\:|\\:B_1) = 0.9$$\n",
        "\n",
        "$$P(A\\:|\\:B_2) = 0.8$$\n",
        "\n",
        "$$P(A\\:|\\:B_3) = 0.6$$"
      ],
      "metadata": {
        "id": "QNPBmrdYGyAu"
      }
    },
    {
      "cell_type": "markdown",
      "source": [
        "Вероятность того, что стрелял один из спортсменов — при условии, что выстрел был удачным, — будем находить по формуле:"
      ],
      "metadata": {
        "id": "ZFj05oLyHEK8"
      }
    },
    {
      "cell_type": "markdown",
      "source": [
        "$$P(B_1\\:|\\:A) = \\frac{P(B_1) \\cdot P(A\\:|\\:B_1)}{P(A)}$$"
      ],
      "metadata": {
        "id": "smj7qg1MG588"
      }
    },
    {
      "cell_type": "code",
      "source": [
        "A = 1/3 * 0.9 + 1/3 * 0.8 + 1/3 * 0.6\n",
        "A"
      ],
      "metadata": {
        "colab": {
          "base_uri": "https://localhost:8080/"
        },
        "id": "3fod9CoSIUrq",
        "outputId": "8fbd6c66-ddd5-4846-8df0-9d8aeb39bf87"
      },
      "execution_count": 9,
      "outputs": [
        {
          "output_type": "execute_result",
          "data": {
            "text/plain": [
              "0.7666666666666666"
            ]
          },
          "metadata": {},
          "execution_count": 9
        }
      ]
    },
    {
      "cell_type": "code",
      "source": [
        "p1 = 1/3 * 0.9 / A\n",
        "p2 = 1/3 * 0.8 / A\n",
        "p3 = 1/3 * 0.6 / A\n"
      ],
      "metadata": {
        "id": "yC-w10ciFTuM"
      },
      "execution_count": 12,
      "outputs": []
    },
    {
      "cell_type": "code",
      "source": [
        "print(f'Вероятность того, что выстрел произведен:\\na). первым спортсменом: {p1:.2f} \\nб). вторым спортсменом: {p2:.2f}\\nв). третьим спортсменом: {p3:.2f}')"
      ],
      "metadata": {
        "colab": {
          "base_uri": "https://localhost:8080/"
        },
        "id": "n91nHuKCIzD3",
        "outputId": "4abf342e-438a-4800-a5af-ff5474876195"
      },
      "execution_count": 16,
      "outputs": [
        {
          "output_type": "stream",
          "name": "stdout",
          "text": [
            "Вероятность того, что выстрел произведен:\n",
            "a). первым спортсменом: 0.39 \n",
            "б). вторым спортсменом: 0.35\n",
            "в). третьим спортсменом: 0.26\n"
          ]
        }
      ]
    }
  ]
}