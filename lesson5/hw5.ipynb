{
  "nbformat": 4,
  "nbformat_minor": 0,
  "metadata": {
    "colab": {
      "name": "hw5.ipynb",
      "provenance": [],
      "collapsed_sections": [],
      "authorship_tag": "ABX9TyPsas2QlHaL2IalhkofLtSM",
      "include_colab_link": true
    },
    "kernelspec": {
      "name": "python3",
      "display_name": "Python 3"
    },
    "language_info": {
      "name": "python"
    }
  },
  "cells": [
    {
      "cell_type": "markdown",
      "metadata": {
        "id": "view-in-github",
        "colab_type": "text"
      },
      "source": [
        "<a href=\"https://colab.research.google.com/github/ddekun/prob_theory_and_math_stat/blob/lesson5/lesson5/hw5.ipynb\" target=\"_parent\"><img src=\"https://colab.research.google.com/assets/colab-badge.svg\" alt=\"Open In Colab\"/></a>"
      ]
    },
    {
      "cell_type": "markdown",
      "source": [
        "# **Урок 5. Проверка статистических гипотез. P-значения. Доверительные интервалы. A/B-тестирование**"
      ],
      "metadata": {
        "id": "aLHNG9k8MIJR"
      }
    },
    {
      "cell_type": "code",
      "source": [
        "import numpy as np\n",
        "import scipy.stats as sps"
      ],
      "metadata": {
        "id": "OV52rdIbHi6T"
      },
      "execution_count": 1,
      "outputs": []
    },
    {
      "cell_type": "markdown",
      "source": [
        "**Напишем функцию доверительного интервала.**"
      ],
      "metadata": {
        "id": "ggi_yifMlJQr"
      }
    },
    {
      "cell_type": "code",
      "source": [
        "def conf_int(t, m, n, s):\n",
        "    return(m - (t * s / np.sqrt(n)), (m + t * s / np.sqrt(n)))"
      ],
      "metadata": {
        "id": "0Ja2H6mxjGr6"
      },
      "execution_count": 2,
      "outputs": []
    },
    {
      "cell_type": "markdown",
      "source": [
        "### 1. Известно, что генеральная совокупность распределена нормально со средним квадратическим отклонением, равным 16. Найти доверительный интервал для оценки математического ожидания a с надежностью 0.95, если выборочная средняя M = 80, а объем выборки n = 256."
      ],
      "metadata": {
        "id": "_zzl0MZ3MLkE"
      }
    },
    {
      "cell_type": "code",
      "source": [
        "t = 1.9693 # смотрим в таблице распределения Стьюдента\n",
        "s = 16\n",
        "m = 80\n",
        "n = 256"
      ],
      "metadata": {
        "id": "5zK7mRA7HZ-i"
      },
      "execution_count": 3,
      "outputs": []
    },
    {
      "cell_type": "code",
      "source": [
        "print(f'Доверительный интервал для оценки математического ожидания - {conf_int(t, m, n, s)[0]:.2f}, {conf_int(t, m, n, s)[1]:.2f}')"
      ],
      "metadata": {
        "colab": {
          "base_uri": "https://localhost:8080/"
        },
        "id": "mUZPCtCohndb",
        "outputId": "1871be6f-0b89-40c9-e228-08a7ca1287df"
      },
      "execution_count": 4,
      "outputs": [
        {
          "output_type": "stream",
          "name": "stdout",
          "text": [
            "Доверительный интервал для оценки математического ожидания - 78.03, 81.97\n"
          ]
        }
      ]
    },
    {
      "cell_type": "markdown",
      "source": [
        "### 2. В результате 10 независимых измерений некоторой величины X, выполненных с одинаковой точностью, получены опытные данные: 6.9, 6.1, 6.2, 6.8, 7.5, 6.3, 6.4, 6.9, 6.7, 6.1 Предполагая, что результаты измерений подчинены нормальному закону распределения вероятностей, оценить истинное значение величины X при помощи доверительного интервала, покрывающего это значение с доверительной вероятностью 0,95."
      ],
      "metadata": {
        "id": "PYLNOxs2VYrZ"
      }
    },
    {
      "cell_type": "code",
      "source": [
        "numbers = np.array([6.9, 6.1, 6.2, 6.8, 7.5, 6.3, 6.4, 6.9, 6.7, 6.1])\n",
        "numbers"
      ],
      "metadata": {
        "colab": {
          "base_uri": "https://localhost:8080/"
        },
        "id": "90G6PUT8IrYc",
        "outputId": "365cfce6-fa2a-4c21-f35d-77560d2803a4"
      },
      "execution_count": 5,
      "outputs": [
        {
          "output_type": "execute_result",
          "data": {
            "text/plain": [
              "array([6.9, 6.1, 6.2, 6.8, 7.5, 6.3, 6.4, 6.9, 6.7, 6.1])"
            ]
          },
          "metadata": {},
          "execution_count": 5
        }
      ]
    },
    {
      "cell_type": "code",
      "source": [
        "t = 2.2621571627409915 # смотрим в таблице распределения Стьюдента\n",
        "n = numbers.shape[0]\n",
        "m = numbers.mean()\n",
        "s = numbers.std(ddof=1)"
      ],
      "metadata": {
        "id": "w9RCC-kRWscn"
      },
      "execution_count": 6,
      "outputs": []
    },
    {
      "cell_type": "code",
      "source": [
        "print(f'Доверительный интервал для оценки математического ожидания - {conf_int(t, m, n, s)[0]:.2f}, {conf_int(t, m, n, s)[1]:.2f}')"
      ],
      "metadata": {
        "colab": {
          "base_uri": "https://localhost:8080/"
        },
        "id": "Lx--5nHXbT5e",
        "outputId": "7de7e88e-f64d-45c3-9ba2-1a086c028073"
      },
      "execution_count": 7,
      "outputs": [
        {
          "output_type": "stream",
          "name": "stdout",
          "text": [
            "Доверительный интервал для оценки математического ожидания - 6.27, 6.91\n"
          ]
        }
      ]
    },
    {
      "cell_type": "markdown",
      "source": [
        "### 3. Утверждается, что шарики для подшипников, изготовленные автоматическим станком, имеют средний диаметр 17 мм. Используя односторонний критерий с α=0,05, проверить эту гипотезу, если в выборке из n=100 шариков средний диаметр оказался равным 17.5 мм, а дисперсия известна и равна 4 мм."
      ],
      "metadata": {
        "id": "DGubb0Xnmgv5"
      }
    },
    {
      "cell_type": "markdown",
      "source": [
        "Зададим нулевую и альтернативную гипотезы:\n",
        "\n",
        "$H_0$: средний диаметр = 17 мм\n",
        "\n",
        "$H_1$: средний диаметр = 17.5 мм"
      ],
      "metadata": {
        "id": "IYC6f0fW1LfJ"
      }
    },
    {
      "cell_type": "code",
      "source": [
        "m0 = 17\n",
        "m1 = 17.5\n",
        "n = 100\n",
        "d = 4\n",
        "std = np.sqrt(d)"
      ],
      "metadata": {
        "id": "66VgvpiqmNoA"
      },
      "execution_count": 8,
      "outputs": []
    },
    {
      "cell_type": "code",
      "source": [
        "t0 = 1.6603911559963895 # смотрим в таблице распределения Стьюдента по одностороннему критерию α = 0.05\n",
        "t1 = (m1 - m0) / (std / np.sqrt(n))"
      ],
      "metadata": {
        "id": "iFOWPM3z2p_w"
      },
      "execution_count": 9,
      "outputs": []
    },
    {
      "cell_type": "code",
      "source": [
        "t1 < t0"
      ],
      "metadata": {
        "colab": {
          "base_uri": "https://localhost:8080/"
        },
        "id": "EDnkTsMU3Az_",
        "outputId": "e18fe477-d3e8-42cc-ef86-43e2f2c884a5"
      },
      "execution_count": 10,
      "outputs": [
        {
          "output_type": "execute_result",
          "data": {
            "text/plain": [
              "False"
            ]
          },
          "metadata": {},
          "execution_count": 10
        }
      ]
    },
    {
      "cell_type": "markdown",
      "source": [
        "Вывод: отклоняем нулевую гипотезу."
      ],
      "metadata": {
        "id": "dBj-w0285GHF"
      }
    },
    {
      "cell_type": "markdown",
      "source": [
        "### 4. Продавец утверждает, что средний вес пачки печенья составляет 200 г. Из партии извлечена выборка из 10 пачек. Вес каждой пачки составляет: 202, 203, 199, 197, 195, 201, 200, 204, 194, 190. Известно, что их веса распределены нормально. Верно ли утверждение продавца, если учитывать, что доверительная вероятность равна 99%?"
      ],
      "metadata": {
        "id": "5z-HA1BX52e6"
      }
    },
    {
      "cell_type": "code",
      "source": [
        "samples = np.array([202, 203, 199, 197, 195, 201, 200, 204, 194, 190])"
      ],
      "metadata": {
        "id": "CuqUYS124TOY"
      },
      "execution_count": 11,
      "outputs": []
    },
    {
      "cell_type": "markdown",
      "source": [
        "Зададим нулевую и альтернативную гипотезы:\n",
        "\n",
        "$H_0$: средний вес пачки = 200\n",
        "\n",
        "$H_1$: средний вес пачки != 200"
      ],
      "metadata": {
        "id": "tpUEnE0A-hcW"
      }
    },
    {
      "cell_type": "code",
      "source": [
        "m0 = 200\n",
        "t0 = 3.2498355440153697"
      ],
      "metadata": {
        "id": "uIrdYRkJ8_Ww"
      },
      "execution_count": 12,
      "outputs": []
    },
    {
      "cell_type": "code",
      "source": [
        "n = samples.shape[0]\n",
        "m1 = samples.mean()\n",
        "s = samples.std(ddof=1)"
      ],
      "metadata": {
        "id": "wmOl0Krv6qcU"
      },
      "execution_count": 13,
      "outputs": []
    },
    {
      "cell_type": "code",
      "source": [
        "t1 = (m1 - m0) / (s / np.sqrt(n))\n",
        "t1"
      ],
      "metadata": {
        "colab": {
          "base_uri": "https://localhost:8080/"
        },
        "id": "Ck0tklGg7zSz",
        "outputId": "f923abfb-6be9-4db4-d284-79e5843b559e"
      },
      "execution_count": 14,
      "outputs": [
        {
          "output_type": "execute_result",
          "data": {
            "text/plain": [
              "-1.0651074037450896"
            ]
          },
          "metadata": {},
          "execution_count": 14
        }
      ]
    },
    {
      "cell_type": "code",
      "source": [
        "abs(t1) < t0"
      ],
      "metadata": {
        "colab": {
          "base_uri": "https://localhost:8080/"
        },
        "id": "T09IElIZ9gVD",
        "outputId": "53fb7c25-de19-4b78-841e-de9ed96dde67"
      },
      "execution_count": 15,
      "outputs": [
        {
          "output_type": "execute_result",
          "data": {
            "text/plain": [
              "True"
            ]
          },
          "metadata": {},
          "execution_count": 15
        }
      ]
    },
    {
      "cell_type": "markdown",
      "source": [
        "Вывод: принимаем нулевую гипотезу."
      ],
      "metadata": {
        "id": "ckP96ckH-Pzu"
      }
    }
  ]
}