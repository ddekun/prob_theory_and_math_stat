{
  "nbformat": 4,
  "nbformat_minor": 0,
  "metadata": {
    "colab": {
      "name": "hw3.ipynb",
      "provenance": [],
      "collapsed_sections": [],
      "authorship_tag": "ABX9TyOne/szjBZ5WERu0TrLVPWJ",
      "include_colab_link": true
    },
    "kernelspec": {
      "name": "python3",
      "display_name": "Python 3"
    },
    "language_info": {
      "name": "python"
    }
  },
  "cells": [
    {
      "cell_type": "markdown",
      "metadata": {
        "id": "view-in-github",
        "colab_type": "text"
      },
      "source": [
        "<a href=\"https://colab.research.google.com/github/ddekun/prob_theory_and_math_stat/blob/lesson3/lesson3/hw3.ipynb\" target=\"_parent\"><img src=\"https://colab.research.google.com/assets/colab-badge.svg\" alt=\"Open In Colab\"/></a>"
      ]
    },
    {
      "cell_type": "markdown",
      "source": [
        "# **Урок 3. Описательная статистика. Качественные и количественные характеристики популяции. Графическое представление данных**"
      ],
      "metadata": {
        "id": "agt9hfoALM4I"
      }
    },
    {
      "cell_type": "code",
      "source": [
        "import numpy as np\n",
        "from math import factorial\n",
        "import pandas as pd\n",
        "import matplotlib.pyplot as plt\n",
        "import seaborn as sns\n",
        "import warnings\n",
        "warnings.filterwarnings('ignore')"
      ],
      "metadata": {
        "id": "DlSfAu97L5bz"
      },
      "execution_count": 1,
      "outputs": []
    },
    {
      "cell_type": "code",
      "source": [
        "# Сочетания\n",
        "def combinations(n, k):\n",
        "    return int(factorial(n) / factorial(k) * factorial(n - k))"
      ],
      "metadata": {
        "id": "hNQP91-D53zi"
      },
      "execution_count": 2,
      "outputs": []
    },
    {
      "cell_type": "markdown",
      "source": [
        "### 1. Даны значения зарплат из выборки выпускников: 100, 80, 75, 77, 89, 33, 45, 25, 65, 17, 30, 24, 57, 55, 70, 75, 65, 84, 90, 150. Посчитать (желательно без использования статистических методов наподобие std, var, mean) среднее арифметическое, среднее квадратичное отклонение, смещенную и несмещенную оценки дисперсий, первый и третий квартили, интерквартильное расстояние. Найти выбросы в выборке, используя для этого \"усы\" из boxplot. В этой задаче можно использовать статистические функции."
      ],
      "metadata": {
        "id": "wMj5U5FMLPT8"
      }
    },
    {
      "cell_type": "code",
      "execution_count": 3,
      "metadata": {
        "id": "wVE1qvb_IBj6"
      },
      "outputs": [],
      "source": [
        "salary = [100, 80, 75, 77, 89, 33, 45, 25, 65, 17, 30, 24, 57, 55, 70, 75, 65, 84, 90, 150]"
      ]
    },
    {
      "cell_type": "code",
      "source": [
        "df_salary = pd.DataFrame(salary)"
      ],
      "metadata": {
        "id": "FFNl3M5Ec2Vs"
      },
      "execution_count": 4,
      "outputs": []
    },
    {
      "cell_type": "markdown",
      "source": [
        "**Среднее арифметическое**"
      ],
      "metadata": {
        "id": "JY4RBltmeol4"
      }
    },
    {
      "cell_type": "code",
      "source": [
        "mean_salary = df_salary.sum() / df_salary.count()\n",
        "mean_salary"
      ],
      "metadata": {
        "colab": {
          "base_uri": "https://localhost:8080/"
        },
        "id": "xdCoA__9Lt_9",
        "outputId": "47b17a42-f2e7-419c-93ee-a7a58ba06aff"
      },
      "execution_count": 5,
      "outputs": [
        {
          "output_type": "execute_result",
          "data": {
            "text/plain": [
              "0    65.3\n",
              "dtype: float64"
            ]
          },
          "metadata": {},
          "execution_count": 5
        }
      ]
    },
    {
      "cell_type": "markdown",
      "source": [
        "**Среднее квадратичное отклонение**"
      ],
      "metadata": {
        "id": "7-uTWnjKeudC"
      }
    },
    {
      "cell_type": "code",
      "source": [
        "salary_std = np.sqrt(((df_salary - mean_salary)**2).sum() / df_salary.count())\n",
        "salary_std"
      ],
      "metadata": {
        "colab": {
          "base_uri": "https://localhost:8080/"
        },
        "id": "iuM7kojNb9nB",
        "outputId": "2cf8a4eb-8394-4152-ce9f-84a48dc20ebe"
      },
      "execution_count": 6,
      "outputs": [
        {
          "output_type": "execute_result",
          "data": {
            "text/plain": [
              "0    30.823854\n",
              "dtype: float64"
            ]
          },
          "metadata": {},
          "execution_count": 6
        }
      ]
    },
    {
      "cell_type": "markdown",
      "source": [
        "**Смещенная оценка дисперсии**"
      ],
      "metadata": {
        "id": "mws2MB8rilga"
      }
    },
    {
      "cell_type": "code",
      "source": [
        "salary_variance = ((df_salary - mean_salary)**2).sum() / df_salary.count()\n",
        "salary_variance"
      ],
      "metadata": {
        "colab": {
          "base_uri": "https://localhost:8080/"
        },
        "id": "WGGRHo8rhype",
        "outputId": "2e9ba342-468a-430b-bcf0-e22ba3900fa2"
      },
      "execution_count": 7,
      "outputs": [
        {
          "output_type": "execute_result",
          "data": {
            "text/plain": [
              "0    950.11\n",
              "dtype: float64"
            ]
          },
          "metadata": {},
          "execution_count": 7
        }
      ]
    },
    {
      "cell_type": "markdown",
      "source": [
        "**Несмещенная оценка дисперсии**"
      ],
      "metadata": {
        "id": "RjiWFMPDkZk6"
      }
    },
    {
      "cell_type": "code",
      "source": [
        "salary_variance2 = ((df_salary - mean_salary)**2).sum() / (df_salary.count() - 1)\n",
        "salary_variance2"
      ],
      "metadata": {
        "colab": {
          "base_uri": "https://localhost:8080/"
        },
        "id": "2RK8D5gvj8f5",
        "outputId": "f8fd99bd-94c1-4b36-f83e-77b73022c4be"
      },
      "execution_count": 8,
      "outputs": [
        {
          "output_type": "execute_result",
          "data": {
            "text/plain": [
              "0    1000.115789\n",
              "dtype: float64"
            ]
          },
          "metadata": {},
          "execution_count": 8
        }
      ]
    },
    {
      "cell_type": "markdown",
      "source": [
        "**Первый и третий квартили, интерквартильное расстояние.**"
      ],
      "metadata": {
        "id": "EfGMVZgdgwYQ"
      }
    },
    {
      "cell_type": "markdown",
      "source": [
        "Найдем квартили разными способами."
      ],
      "metadata": {
        "id": "XNqtBwqdi7GM"
      }
    },
    {
      "cell_type": "code",
      "source": [
        "df_salary.quantile([0.25, 0.75]) # 1 способ"
      ],
      "metadata": {
        "colab": {
          "base_uri": "https://localhost:8080/",
          "height": 112
        },
        "id": "Irrm-Fk0hnoD",
        "outputId": "977ac749-10eb-4601-c84f-96904c851237"
      },
      "execution_count": 11,
      "outputs": [
        {
          "output_type": "execute_result",
          "data": {
            "text/plain": [
              "         0\n",
              "0.25  42.0\n",
              "0.75  81.0"
            ],
            "text/html": [
              "\n",
              "  <div id=\"df-174c4b2d-e5dc-4440-a15a-43d6b3b78af4\">\n",
              "    <div class=\"colab-df-container\">\n",
              "      <div>\n",
              "<style scoped>\n",
              "    .dataframe tbody tr th:only-of-type {\n",
              "        vertical-align: middle;\n",
              "    }\n",
              "\n",
              "    .dataframe tbody tr th {\n",
              "        vertical-align: top;\n",
              "    }\n",
              "\n",
              "    .dataframe thead th {\n",
              "        text-align: right;\n",
              "    }\n",
              "</style>\n",
              "<table border=\"1\" class=\"dataframe\">\n",
              "  <thead>\n",
              "    <tr style=\"text-align: right;\">\n",
              "      <th></th>\n",
              "      <th>0</th>\n",
              "    </tr>\n",
              "  </thead>\n",
              "  <tbody>\n",
              "    <tr>\n",
              "      <th>0.25</th>\n",
              "      <td>42.0</td>\n",
              "    </tr>\n",
              "    <tr>\n",
              "      <th>0.75</th>\n",
              "      <td>81.0</td>\n",
              "    </tr>\n",
              "  </tbody>\n",
              "</table>\n",
              "</div>\n",
              "      <button class=\"colab-df-convert\" onclick=\"convertToInteractive('df-174c4b2d-e5dc-4440-a15a-43d6b3b78af4')\"\n",
              "              title=\"Convert this dataframe to an interactive table.\"\n",
              "              style=\"display:none;\">\n",
              "        \n",
              "  <svg xmlns=\"http://www.w3.org/2000/svg\" height=\"24px\"viewBox=\"0 0 24 24\"\n",
              "       width=\"24px\">\n",
              "    <path d=\"M0 0h24v24H0V0z\" fill=\"none\"/>\n",
              "    <path d=\"M18.56 5.44l.94 2.06.94-2.06 2.06-.94-2.06-.94-.94-2.06-.94 2.06-2.06.94zm-11 1L8.5 8.5l.94-2.06 2.06-.94-2.06-.94L8.5 2.5l-.94 2.06-2.06.94zm10 10l.94 2.06.94-2.06 2.06-.94-2.06-.94-.94-2.06-.94 2.06-2.06.94z\"/><path d=\"M17.41 7.96l-1.37-1.37c-.4-.4-.92-.59-1.43-.59-.52 0-1.04.2-1.43.59L10.3 9.45l-7.72 7.72c-.78.78-.78 2.05 0 2.83L4 21.41c.39.39.9.59 1.41.59.51 0 1.02-.2 1.41-.59l7.78-7.78 2.81-2.81c.8-.78.8-2.07 0-2.86zM5.41 20L4 18.59l7.72-7.72 1.47 1.35L5.41 20z\"/>\n",
              "  </svg>\n",
              "      </button>\n",
              "      \n",
              "  <style>\n",
              "    .colab-df-container {\n",
              "      display:flex;\n",
              "      flex-wrap:wrap;\n",
              "      gap: 12px;\n",
              "    }\n",
              "\n",
              "    .colab-df-convert {\n",
              "      background-color: #E8F0FE;\n",
              "      border: none;\n",
              "      border-radius: 50%;\n",
              "      cursor: pointer;\n",
              "      display: none;\n",
              "      fill: #1967D2;\n",
              "      height: 32px;\n",
              "      padding: 0 0 0 0;\n",
              "      width: 32px;\n",
              "    }\n",
              "\n",
              "    .colab-df-convert:hover {\n",
              "      background-color: #E2EBFA;\n",
              "      box-shadow: 0px 1px 2px rgba(60, 64, 67, 0.3), 0px 1px 3px 1px rgba(60, 64, 67, 0.15);\n",
              "      fill: #174EA6;\n",
              "    }\n",
              "\n",
              "    [theme=dark] .colab-df-convert {\n",
              "      background-color: #3B4455;\n",
              "      fill: #D2E3FC;\n",
              "    }\n",
              "\n",
              "    [theme=dark] .colab-df-convert:hover {\n",
              "      background-color: #434B5C;\n",
              "      box-shadow: 0px 1px 3px 1px rgba(0, 0, 0, 0.15);\n",
              "      filter: drop-shadow(0px 1px 2px rgba(0, 0, 0, 0.3));\n",
              "      fill: #FFFFFF;\n",
              "    }\n",
              "  </style>\n",
              "\n",
              "      <script>\n",
              "        const buttonEl =\n",
              "          document.querySelector('#df-174c4b2d-e5dc-4440-a15a-43d6b3b78af4 button.colab-df-convert');\n",
              "        buttonEl.style.display =\n",
              "          google.colab.kernel.accessAllowed ? 'block' : 'none';\n",
              "\n",
              "        async function convertToInteractive(key) {\n",
              "          const element = document.querySelector('#df-174c4b2d-e5dc-4440-a15a-43d6b3b78af4');\n",
              "          const dataTable =\n",
              "            await google.colab.kernel.invokeFunction('convertToInteractive',\n",
              "                                                     [key], {});\n",
              "          if (!dataTable) return;\n",
              "\n",
              "          const docLinkHtml = 'Like what you see? Visit the ' +\n",
              "            '<a target=\"_blank\" href=https://colab.research.google.com/notebooks/data_table.ipynb>data table notebook</a>'\n",
              "            + ' to learn more about interactive tables.';\n",
              "          element.innerHTML = '';\n",
              "          dataTable['output_type'] = 'display_data';\n",
              "          await google.colab.output.renderOutput(dataTable, element);\n",
              "          const docLink = document.createElement('div');\n",
              "          docLink.innerHTML = docLinkHtml;\n",
              "          element.appendChild(docLink);\n",
              "        }\n",
              "      </script>\n",
              "    </div>\n",
              "  </div>\n",
              "  "
            ]
          },
          "metadata": {},
          "execution_count": 11
        }
      ]
    },
    {
      "cell_type": "code",
      "source": [
        "np.percentile(df_salary, [25, 75]) # 2 способ"
      ],
      "metadata": {
        "colab": {
          "base_uri": "https://localhost:8080/"
        },
        "id": "W7tsHf3ZkGga",
        "outputId": "d7a40b06-872d-41f8-ab39-6051b0604277"
      },
      "execution_count": 14,
      "outputs": [
        {
          "output_type": "execute_result",
          "data": {
            "text/plain": [
              "array([42., 81.])"
            ]
          },
          "metadata": {},
          "execution_count": 14
        }
      ]
    },
    {
      "cell_type": "code",
      "source": [
        "df_salary.describe() # 3 способ"
      ],
      "metadata": {
        "colab": {
          "base_uri": "https://localhost:8080/",
          "height": 300
        },
        "id": "h3L80qsUgxDg",
        "outputId": "cbd38371-6c79-41cd-e70d-7beba250fc1c"
      },
      "execution_count": 16,
      "outputs": [
        {
          "output_type": "execute_result",
          "data": {
            "text/plain": [
              "                0\n",
              "count   20.000000\n",
              "mean    65.300000\n",
              "std     31.624607\n",
              "min     17.000000\n",
              "25%     42.000000\n",
              "50%     67.500000\n",
              "75%     81.000000\n",
              "max    150.000000"
            ],
            "text/html": [
              "\n",
              "  <div id=\"df-4786dffb-7454-4490-94a9-113df9d55c5b\">\n",
              "    <div class=\"colab-df-container\">\n",
              "      <div>\n",
              "<style scoped>\n",
              "    .dataframe tbody tr th:only-of-type {\n",
              "        vertical-align: middle;\n",
              "    }\n",
              "\n",
              "    .dataframe tbody tr th {\n",
              "        vertical-align: top;\n",
              "    }\n",
              "\n",
              "    .dataframe thead th {\n",
              "        text-align: right;\n",
              "    }\n",
              "</style>\n",
              "<table border=\"1\" class=\"dataframe\">\n",
              "  <thead>\n",
              "    <tr style=\"text-align: right;\">\n",
              "      <th></th>\n",
              "      <th>0</th>\n",
              "    </tr>\n",
              "  </thead>\n",
              "  <tbody>\n",
              "    <tr>\n",
              "      <th>count</th>\n",
              "      <td>20.000000</td>\n",
              "    </tr>\n",
              "    <tr>\n",
              "      <th>mean</th>\n",
              "      <td>65.300000</td>\n",
              "    </tr>\n",
              "    <tr>\n",
              "      <th>std</th>\n",
              "      <td>31.624607</td>\n",
              "    </tr>\n",
              "    <tr>\n",
              "      <th>min</th>\n",
              "      <td>17.000000</td>\n",
              "    </tr>\n",
              "    <tr>\n",
              "      <th>25%</th>\n",
              "      <td>42.000000</td>\n",
              "    </tr>\n",
              "    <tr>\n",
              "      <th>50%</th>\n",
              "      <td>67.500000</td>\n",
              "    </tr>\n",
              "    <tr>\n",
              "      <th>75%</th>\n",
              "      <td>81.000000</td>\n",
              "    </tr>\n",
              "    <tr>\n",
              "      <th>max</th>\n",
              "      <td>150.000000</td>\n",
              "    </tr>\n",
              "  </tbody>\n",
              "</table>\n",
              "</div>\n",
              "      <button class=\"colab-df-convert\" onclick=\"convertToInteractive('df-4786dffb-7454-4490-94a9-113df9d55c5b')\"\n",
              "              title=\"Convert this dataframe to an interactive table.\"\n",
              "              style=\"display:none;\">\n",
              "        \n",
              "  <svg xmlns=\"http://www.w3.org/2000/svg\" height=\"24px\"viewBox=\"0 0 24 24\"\n",
              "       width=\"24px\">\n",
              "    <path d=\"M0 0h24v24H0V0z\" fill=\"none\"/>\n",
              "    <path d=\"M18.56 5.44l.94 2.06.94-2.06 2.06-.94-2.06-.94-.94-2.06-.94 2.06-2.06.94zm-11 1L8.5 8.5l.94-2.06 2.06-.94-2.06-.94L8.5 2.5l-.94 2.06-2.06.94zm10 10l.94 2.06.94-2.06 2.06-.94-2.06-.94-.94-2.06-.94 2.06-2.06.94z\"/><path d=\"M17.41 7.96l-1.37-1.37c-.4-.4-.92-.59-1.43-.59-.52 0-1.04.2-1.43.59L10.3 9.45l-7.72 7.72c-.78.78-.78 2.05 0 2.83L4 21.41c.39.39.9.59 1.41.59.51 0 1.02-.2 1.41-.59l7.78-7.78 2.81-2.81c.8-.78.8-2.07 0-2.86zM5.41 20L4 18.59l7.72-7.72 1.47 1.35L5.41 20z\"/>\n",
              "  </svg>\n",
              "      </button>\n",
              "      \n",
              "  <style>\n",
              "    .colab-df-container {\n",
              "      display:flex;\n",
              "      flex-wrap:wrap;\n",
              "      gap: 12px;\n",
              "    }\n",
              "\n",
              "    .colab-df-convert {\n",
              "      background-color: #E8F0FE;\n",
              "      border: none;\n",
              "      border-radius: 50%;\n",
              "      cursor: pointer;\n",
              "      display: none;\n",
              "      fill: #1967D2;\n",
              "      height: 32px;\n",
              "      padding: 0 0 0 0;\n",
              "      width: 32px;\n",
              "    }\n",
              "\n",
              "    .colab-df-convert:hover {\n",
              "      background-color: #E2EBFA;\n",
              "      box-shadow: 0px 1px 2px rgba(60, 64, 67, 0.3), 0px 1px 3px 1px rgba(60, 64, 67, 0.15);\n",
              "      fill: #174EA6;\n",
              "    }\n",
              "\n",
              "    [theme=dark] .colab-df-convert {\n",
              "      background-color: #3B4455;\n",
              "      fill: #D2E3FC;\n",
              "    }\n",
              "\n",
              "    [theme=dark] .colab-df-convert:hover {\n",
              "      background-color: #434B5C;\n",
              "      box-shadow: 0px 1px 3px 1px rgba(0, 0, 0, 0.15);\n",
              "      filter: drop-shadow(0px 1px 2px rgba(0, 0, 0, 0.3));\n",
              "      fill: #FFFFFF;\n",
              "    }\n",
              "  </style>\n",
              "\n",
              "      <script>\n",
              "        const buttonEl =\n",
              "          document.querySelector('#df-4786dffb-7454-4490-94a9-113df9d55c5b button.colab-df-convert');\n",
              "        buttonEl.style.display =\n",
              "          google.colab.kernel.accessAllowed ? 'block' : 'none';\n",
              "\n",
              "        async function convertToInteractive(key) {\n",
              "          const element = document.querySelector('#df-4786dffb-7454-4490-94a9-113df9d55c5b');\n",
              "          const dataTable =\n",
              "            await google.colab.kernel.invokeFunction('convertToInteractive',\n",
              "                                                     [key], {});\n",
              "          if (!dataTable) return;\n",
              "\n",
              "          const docLinkHtml = 'Like what you see? Visit the ' +\n",
              "            '<a target=\"_blank\" href=https://colab.research.google.com/notebooks/data_table.ipynb>data table notebook</a>'\n",
              "            + ' to learn more about interactive tables.';\n",
              "          element.innerHTML = '';\n",
              "          dataTable['output_type'] = 'display_data';\n",
              "          await google.colab.output.renderOutput(dataTable, element);\n",
              "          const docLink = document.createElement('div');\n",
              "          docLink.innerHTML = docLinkHtml;\n",
              "          element.appendChild(docLink);\n",
              "        }\n",
              "      </script>\n",
              "    </div>\n",
              "  </div>\n",
              "  "
            ]
          },
          "metadata": {},
          "execution_count": 16
        }
      ]
    },
    {
      "cell_type": "markdown",
      "source": [
        "Найдем интерквартильное расстояние."
      ],
      "metadata": {
        "id": "l3VRB0eUlONK"
      }
    },
    {
      "cell_type": "code",
      "source": [
        "iqr = df_salary[0].quantile(0.75) - df_salary[0].quantile(0.25) # 1 способ\n",
        "iqr"
      ],
      "metadata": {
        "colab": {
          "base_uri": "https://localhost:8080/"
        },
        "id": "ozkG-sGFklHY",
        "outputId": "9545f7fc-6869-4ee5-8123-5955ed1a6882"
      },
      "execution_count": 29,
      "outputs": [
        {
          "output_type": "execute_result",
          "data": {
            "text/plain": [
              "39.0"
            ]
          },
          "metadata": {},
          "execution_count": 29
        }
      ]
    },
    {
      "cell_type": "code",
      "source": [
        "q25, q75 = np.percentile(df_salary, [25, 75]) # 2 способ\n",
        "iqr1 = q75 - q25\n",
        "iqr1"
      ],
      "metadata": {
        "colab": {
          "base_uri": "https://localhost:8080/"
        },
        "id": "-54snf6-mqjI",
        "outputId": "c45ed343-2370-461a-97a7-42f9b6dd7b68"
      },
      "execution_count": 35,
      "outputs": [
        {
          "output_type": "execute_result",
          "data": {
            "text/plain": [
              "39.0"
            ]
          },
          "metadata": {},
          "execution_count": 35
        }
      ]
    },
    {
      "cell_type": "markdown",
      "source": [
        "**Найти выбросы в выборке, используя для этого \"усы\" из boxplot.**"
      ],
      "metadata": {
        "id": "ipz0lCsqnsTh"
      }
    },
    {
      "cell_type": "code",
      "source": [
        "sns.boxplot(salary, orient='v')\n",
        "plt.show()"
      ],
      "metadata": {
        "colab": {
          "base_uri": "https://localhost:8080/",
          "height": 265
        },
        "id": "E1iMZBwcktuM",
        "outputId": "c628eb0b-38e3-4ef6-c53d-6d8324f805ce"
      },
      "execution_count": 37,
      "outputs": [
        {
          "output_type": "display_data",
          "data": {
            "text/plain": [
              "<Figure size 432x288 with 1 Axes>"
            ],
            "image/png": "[encoded data removed]"
          },
          "metadata": {
            "needs_background": "light"
          }
        }
      ]
    },
    {
      "cell_type": "code",
      "source": [
        "boxplot_range = (q1 - 1.5 * iqr, q3 + 1.5 * iqr)\n",
        "boxplot_range"
      ],
      "metadata": {
        "colab": {
          "base_uri": "https://localhost:8080/"
        },
        "id": "ixSZFvpUw8rJ",
        "outputId": "80bad16f-ca5b-4412-95f8-4da27bb405ef"
      },
      "execution_count": 42,
      "outputs": [
        {
          "output_type": "execute_result",
          "data": {
            "text/plain": [
              "(-16.5, 139.5)"
            ]
          },
          "metadata": {},
          "execution_count": 42
        }
      ]
    },
    {
      "cell_type": "code",
      "source": [
        "outliers = df_salary.loc[(df_salary[0] < boxplot_range[0]) | (df_salary[0] > boxplot_range[1])]\n",
        "print(f'выбросы - {outliers[0].value_counts()}')"
      ],
      "metadata": {
        "colab": {
          "base_uri": "https://localhost:8080/"
        },
        "id": "PTwgXutZy6db",
        "outputId": "6aceb6e3-cbf3-493b-b34d-a3ba1211ad06"
      },
      "execution_count": 56,
      "outputs": [
        {
          "output_type": "stream",
          "name": "stdout",
          "text": [
            "выбросы - 150    1\n",
            "Name: 0, dtype: int64\n"
          ]
        }
      ]
    },
    {
      "cell_type": "markdown",
      "source": [
        "### 2. В первом ящике находится 8 мячей, из которых 5 - белые. Во втором ящике - 12 мячей, из которых 5 белых. Из первого ящика вытаскивают случайным образом два мяча, из второго - 4. Какова вероятность того, что 3 мяча белые?"
      ],
      "metadata": {
        "id": "UHkprC9D1yRt"
      }
    },
    {
      "cell_type": "markdown",
      "source": [
        "n - общее количество мячей в корзине\n",
        "\n",
        "k - количество белых мячей в корзине\n",
        "\n",
        "a - количество не белых мячей в корзине\n",
        "\n",
        "b - общее количество вытянутых мячей из корзины\n",
        "\n",
        "c - количество не белых вытянутых мячей из корзины\n",
        "\n",
        "d - количество белых вытянутых мячей из корзины"
      ],
      "metadata": {
        "id": "WiaLwALECbsM"
      }
    },
    {
      "cell_type": "markdown",
      "source": [
        "Напишем функцию для ящика."
      ],
      "metadata": {
        "id": "-eXCx_7PQBtE"
      }
    },
    {
      "cell_type": "code",
      "source": [
        "def box(n, k, a, b, c, d):\n",
        "    return(factorial(k) / (factorial(d)*factorial(k - d)) * factorial(a)) / (factorial(c)*factorial(a - c)) / (factorial(n) / (factorial(b)*factorial(n - b))) "
      ],
      "metadata": {
        "id": "FIBqE-NI2z5H"
      },
      "execution_count": 17,
      "outputs": []
    },
    {
      "cell_type": "code",
      "source": [
        "A = box(8, 5, 3, 2, 2, 0) * box(12, 5, 7, 4, 1, 3) + box(8, 5, 3, 2, 1, 1) * box(12, 5, 7, 4, 2, 2) + box(8, 5, 3, 2, 0, 2) * box(12, 5, 7, 4, 3, 1)\n",
        "print(f'Вероятность того, что 3 мяча белые - {A:.3f}')"
      ],
      "metadata": {
        "colab": {
          "base_uri": "https://localhost:8080/"
        },
        "id": "OwaVuT8lETFm",
        "outputId": "70506b0e-feaa-4e67-c919-7a67502604c4"
      },
      "execution_count": 18,
      "outputs": [
        {
          "output_type": "stream",
          "name": "stdout",
          "text": [
            "Вероятность того, что 3 мяча белые - 0.369\n"
          ]
        }
      ]
    },
    {
      "cell_type": "markdown",
      "source": [
        "### 3. В университет на факультеты A и B поступило равное количество студентов, а на факультет C студентов поступило столько же, сколько на A и B вместе. Вероятность того, что студент факультета A сдаст первую сессию, равна 0.8. Для студента факультета B эта вероятность равна 0.7, а для студента факультета C - 0.9. Студент сдал первую сессию. Какова вероятность, что он учится: a). на факультете A б). на факультете B в). на факультете C?"
      ],
      "metadata": {
        "id": "BUv8YZZIQzkD"
      }
    },
    {
      "cell_type": "markdown",
      "source": [
        "Вероятность того, что студент учится на факультете A: P(A) = 0.25\n",
        "\n",
        "Вероятность того, что студент учится на факультете B: P(B) = 0.25\n",
        "\n",
        "Вероятность того, что студент учится на факультете C: P(C) = 0.5\n",
        "\n",
        "Вероятность сдачи сдачи сессии:\n",
        "*   $P(A_a) = 0.8$\n",
        "*   $P(B_b) = 0.7$\n",
        "*   $P(C_c) = 0.9$\n",
        "\n",
        "Найдем полную вероятность, что сдадут все студенты:\n",
        "\n",
        "$P = P(A)*P(A_a) + P(B)*P(B_b) + P(A)*P(C_c)$"
      ],
      "metadata": {
        "id": "37RmWxIW5Bni"
      }
    },
    {
      "cell_type": "code",
      "source": [
        "P = 0.25 * 0.8 + 0.25 * 0.7 + 0.5 * 0.9\n",
        "P"
      ],
      "metadata": {
        "id": "RfB5O3UK9Bwk",
        "colab": {
          "base_uri": "https://localhost:8080/"
        },
        "outputId": "e135d2aa-292a-4d5f-ea85-cd195125e64b"
      },
      "execution_count": 57,
      "outputs": [
        {
          "output_type": "execute_result",
          "data": {
            "text/plain": [
              "0.825"
            ]
          },
          "metadata": {},
          "execution_count": 57
        }
      ]
    },
    {
      "cell_type": "code",
      "source": [
        "p1 = 0.25 * 0.8 / P\n",
        "p2 = 0.25 * 0.7 / P\n",
        "p3 = 0.5 * 0.9 / P\n",
        "print(f'Вероятность, что студент учится: \\na). на факультете A - {p1:.3f}\\nб). на факультете B - {p2:.3f}\\nв). на факультете C - {p3:.3f}')"
      ],
      "metadata": {
        "colab": {
          "base_uri": "https://localhost:8080/"
        },
        "id": "3LBcXE1D9Hjv",
        "outputId": "8a35b1e1-adfc-47ba-8758-e6427b0c33a2"
      },
      "execution_count": 60,
      "outputs": [
        {
          "output_type": "stream",
          "name": "stdout",
          "text": [
            "Вероятность, что студент учится: \n",
            "a). на факультете A - 0.242\n",
            "б). на факультете B - 0.212\n",
            "в). на факультете C - 0.545\n"
          ]
        }
      ]
    },
    {
      "cell_type": "markdown",
      "source": [
        "### 4. Устройство состоит из трех деталей. Для первой детали вероятность выйти из строя в первый месяц равна 0.1, для второй - 0.2, для третьей - 0.25. Какова вероятность того, что в первый месяц выйдут из строя: а). все детали б). только две детали в). хотя бы одна деталь г). от одной до двух деталей?"
      ],
      "metadata": {
        "id": "8WWsDUWE_OaE"
      }
    },
    {
      "cell_type": "code",
      "source": [
        "P_a = 0.1 * 0.2 * 0.25\n",
        "print(f'Вероятность того, что в первый месяц выйдут из строя:\\nа). все детали - {P_a:.3f}')"
      ],
      "metadata": {
        "colab": {
          "base_uri": "https://localhost:8080/"
        },
        "id": "_4RmDO7s-GVy",
        "outputId": "ee65e93c-6a57-425f-ab17-05527b8a2d71"
      },
      "execution_count": 64,
      "outputs": [
        {
          "output_type": "stream",
          "name": "stdout",
          "text": [
            "Вероятность того, что в первый месяц выйдут из строя:\n",
            "а). все детали - 0.005\n"
          ]
        }
      ]
    },
    {
      "cell_type": "markdown",
      "source": [
        "B1 - из строя вышли первая и вторая деталь, но не вышла третья\n",
        "\n",
        "B2 - из строя вышла первая и третья деталь, но не вышла вторая\n",
        "\n",
        "B3 - из строя вышла вторая и третья деталь, но не вышла первая\n",
        "\n",
        "В = B1 + B2 + B3 - из строя вышло только две детали"
      ],
      "metadata": {
        "id": "M3_yrzzWFPOU"
      }
    },
    {
      "cell_type": "code",
      "source": [
        "P_b = 0.1 * 0.2 * (1 - 0.25) + 0.1 * (1 - 0.2) * 0.25 + (1 - 0.1) * 0.2 * 0.25\n",
        "print(f'Вероятность того, что в первый месяц выйдут из строя:\\nб). только две детали - {P_b:.2f}')"
      ],
      "metadata": {
        "colab": {
          "base_uri": "https://localhost:8080/"
        },
        "id": "-MMDqe-REaYY",
        "outputId": "be4981ec-1293-4204-a076-7cb32f05a6dc"
      },
      "execution_count": 68,
      "outputs": [
        {
          "output_type": "stream",
          "name": "stdout",
          "text": [
            "Вероятность того, что в первый месяц выйдут из строя:\n",
            "б). только две детали - 0.08\n"
          ]
        }
      ]
    },
    {
      "cell_type": "code",
      "source": [
        "P_c = 1 - (1 - 0.1) * (1 - 0.2) * (1 - 0.25)\n",
        "print(f'Вероятность того, что в первый месяц выйдет из строя:\\nв). хотя бы одна деталь - {P_c:.2f}')"
      ],
      "metadata": {
        "colab": {
          "base_uri": "https://localhost:8080/"
        },
        "id": "CVps-DcdFvdS",
        "outputId": "adfdf69a-cc23-4365-c40a-4a90b6d23999"
      },
      "execution_count": 72,
      "outputs": [
        {
          "output_type": "stream",
          "name": "stdout",
          "text": [
            "Вероятность того, что в первый месяц выйдут из строя:\n",
            "в). хотя бы одна деталь - 0.46\n"
          ]
        }
      ]
    },
    {
      "cell_type": "markdown",
      "source": [
        "D1 - из строя вышла первая деталь\n",
        "\n",
        "D2 - из строя вышла вторая деталь\n",
        "\n",
        "D3 - из строя вышла третья деталь\n",
        "\n",
        "D - из строя вышло от одной деталь до двух деталей\n",
        "\n",
        "D = B + (D1 * D2 * D3)"
      ],
      "metadata": {
        "id": "Nvd26RcQJ37F"
      }
    },
    {
      "cell_type": "code",
      "source": [
        "P_d  = P_b + (0.1 * (1 - 0.2) * (1 - 0.25) + (1 - 0.1) * 0.2 * (1 - 0.25) + (1 - 0.1) * (1 - 0.2) * 0.25)\n",
        "print(f'Вероятность того, что в первый месяц выйдет из строя:\\nг). от одной до двух деталей - {P_d:.3f}')"
      ],
      "metadata": {
        "colab": {
          "base_uri": "https://localhost:8080/"
        },
        "id": "ziJAkhIrGc60",
        "outputId": "24428e11-54b2-4af0-86a3-a9ebbeb847a5"
      },
      "execution_count": 77,
      "outputs": [
        {
          "output_type": "stream",
          "name": "stdout",
          "text": [
            "Вероятность того, что в первый месяц выйдет из строя:\n",
            "г). от одной до двух деталей - 0.455\n"
          ]
        }
      ]
    }
  ]
}