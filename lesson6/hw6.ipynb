{
  "nbformat": 4,
  "nbformat_minor": 0,
  "metadata": {
    "colab": {
      "name": "hw6.ipynb",
      "provenance": [],
      "collapsed_sections": [],
      "authorship_tag": "ABX9TyPVPuSKH/3uxv0QIelP3au3",
      "include_colab_link": true
    },
    "kernelspec": {
      "name": "python3",
      "display_name": "Python 3"
    },
    "language_info": {
      "name": "python"
    }
  },
  "cells": [
    {
      "cell_type": "markdown",
      "metadata": {
        "id": "view-in-github",
        "colab_type": "text"
      },
      "source": [
        "<a href=\"https://colab.research.google.com/github/ddekun/prob_theory_and_math_stat/blob/lesson6/lesson6/hw6.ipynb\" target=\"_parent\"><img src=\"https://colab.research.google.com/assets/colab-badge.svg\" alt=\"Open In Colab\"/></a>"
      ]
    },
    {
      "cell_type": "markdown",
      "source": [
        "# **Урок 6. Взаимосвязь величин. Параметрические и непараметрические показатели корреляции. Корреляционный анализ.**"
      ],
      "metadata": {
        "id": "ilWmKx2W5JpG"
      }
    },
    {
      "cell_type": "code",
      "source": [
        "import numpy as np\n",
        "import pandas as pd"
      ],
      "metadata": {
        "id": "QUnGdx6EGIpO"
      },
      "execution_count": 50,
      "outputs": []
    },
    {
      "cell_type": "markdown",
      "source": [
        "**Напишем функцию доверительного интервала.**"
      ],
      "metadata": {
        "id": "KfD4SWXxxRlU"
      }
    },
    {
      "cell_type": "code",
      "source": [
        "def conf_int(t, m, n, s):\n",
        "    return (m - t * s / np.sqrt(n), m + t * s / np.sqrt(n))"
      ],
      "metadata": {
        "id": "FIHp3PDoxWjg"
      },
      "execution_count": 51,
      "outputs": []
    },
    {
      "cell_type": "markdown",
      "source": [
        "### 1. Даны значения величины заработной платы заемщиков банка (zp) и значения их поведенческого кредитного скоринга (ks):\n",
        "zp = [35, 45, 190, 200, 40, 70, 54, 150, 120, 110],\n",
        "\n",
        "ks = [401, 574, 874, 919, 459, 739, 653, 902, 746, 832].\n",
        "\n",
        "Найдите ковариацию этих двух величин с помощью элементарных действий, а затем с помощью функции cov из numpy. Полученные значения должны быть равны.\n",
        "\n",
        "Найдите коэффициент корреляции Пирсона с помощью ковариации и среднеквадратичных отклонений двух признаков,\n",
        "\n",
        "а затем с использованием функций из библиотек numpy и pandas."
      ],
      "metadata": {
        "id": "tT_2EeG45M74"
      }
    },
    {
      "cell_type": "code",
      "execution_count": 52,
      "metadata": {
        "id": "Xw58BQwG5Gf7"
      },
      "outputs": [],
      "source": [
        "zp = np.array([35, 45, 190, 200, 40, 70, 54, 150, 120, 110])\n",
        "ks = np.array([401, 574, 874, 919, 459, 739, 653, 902, 746, 832])"
      ]
    },
    {
      "cell_type": "code",
      "source": [
        "Mzp = zp.mean()\n",
        "Mks = ks.mean()\n",
        "cov1 = ((zp - Mzp) * (ks - Mks)).sum() / (zp.shape[0] - 1)\n",
        "cov2 = np.cov(zp, ks)\n",
        "print(f'Ковариация двух величин с помощью элементарных действий: {cov1:.2f}\\nКовариация двух величин с помощью функции cov из numpy: {cov2[0,1]:.2f}')"
      ],
      "metadata": {
        "colab": {
          "base_uri": "https://localhost:8080/"
        },
        "id": "g2XuAdfaGRdI",
        "outputId": "5d085f6a-d7da-4629-8b6f-372e7c712650"
      },
      "execution_count": 53,
      "outputs": [
        {
          "output_type": "stream",
          "name": "stdout",
          "text": [
            "Ковариация двух величин с помощью элементарных действий: 10175.38\n",
            "Ковариация двух величин с помощью функции cov из numpy: 10175.38\n"
          ]
        }
      ]
    },
    {
      "cell_type": "code",
      "source": [
        "corr = cov1 / (zp.std(ddof=1) * ks.std(ddof=1))\n",
        "npcorr = np.corrcoef(zp, ks)\n",
        "d = {'zp': zp, 'ks': ks}\n",
        "df = pd.DataFrame(d)\n",
        "dfcorr = df.corr()['ks'][0]\n",
        "print(f'Коэффициент корреляции Пирсона с помощью ковариации и среднеквадратичных отклонений двух признаков: {corr:.3f}\\nКоэффициент корреляции Пирсона с использованием функций из библиотеки numpy: {npcorr[0,1]:.3f}\\nКоэффициент корреляции Пирсона с использованием функций из библиотек pandas: {dfcorr:.3f}')"
      ],
      "metadata": {
        "colab": {
          "base_uri": "https://localhost:8080/"
        },
        "id": "i-onE65FUGG4",
        "outputId": "d6230938-04eb-4ef7-9656-9eca871a50d1"
      },
      "execution_count": 54,
      "outputs": [
        {
          "output_type": "stream",
          "name": "stdout",
          "text": [
            "Коэффициент корреляции Пирсона с помощью ковариации и среднеквадратичных отклонений двух признаков: 0.887\n",
            "Коэффициент корреляции Пирсона с использованием функций из библиотеки numpy: 0.887\n",
            "Коэффициент корреляции Пирсона с использованием функций из библиотек pandas: 0.887\n"
          ]
        }
      ]
    },
    {
      "cell_type": "markdown",
      "source": [
        "### 2. Измерены значения IQ выборки студентов, обучающихся в местных технических вузах:\n",
        "131, 125, 115, 122, 131, 115, 107, 99, 125, 111.\n",
        "\n",
        "Известно, что в генеральной совокупности IQ распределен нормально.\n",
        "\n",
        "Найдите доверительный интервал для математического ожидания с надежностью 0.95."
      ],
      "metadata": {
        "id": "HYR31QQcfBSv"
      }
    },
    {
      "cell_type": "code",
      "source": [
        "IQ = np.array([131, 125, 115, 122, 131, 115, 107, 99, 125, 111])\n",
        "IQ"
      ],
      "metadata": {
        "id": "GdMxOOb-ZQBJ",
        "colab": {
          "base_uri": "https://localhost:8080/"
        },
        "outputId": "c99a1ba7-e5c3-4c11-80f1-7b3a1f593bc6"
      },
      "execution_count": 55,
      "outputs": [
        {
          "output_type": "execute_result",
          "data": {
            "text/plain": [
              "array([131, 125, 115, 122, 131, 115, 107,  99, 125, 111])"
            ]
          },
          "metadata": {},
          "execution_count": 55
        }
      ]
    },
    {
      "cell_type": "code",
      "source": [
        "t = 2.2621571627409915 # возьмем коэффициент Стьюдента из таблицы\n",
        "n = IQ.shape[0]\n",
        "m = IQ.mean()\n",
        "s = IQ.std(ddof=1)\n",
        "A = conf_int(t, m, n, s)\n",
        "print(f'Доверительный интервал для математического ожидания с надежностью 0.95: {A[0]:.2f}, {A[1]:.2f}')"
      ],
      "metadata": {
        "colab": {
          "base_uri": "https://localhost:8080/"
        },
        "id": "g0DymZfXyUqd",
        "outputId": "88eea683-4761-4868-b634-4e3892af393d"
      },
      "execution_count": 56,
      "outputs": [
        {
          "output_type": "stream",
          "name": "stdout",
          "text": [
            "Доверительный интервал для математического ожидания с надежностью 0.95: 110.56, 125.64\n"
          ]
        }
      ]
    },
    {
      "cell_type": "markdown",
      "source": [
        "### 3. Известно, что рост футболистов в сборной распределен нормально с дисперсией генеральной совокупности, равной 25 кв.см. Объем выборки равен 27, среднее выборочное составляет 174.2. Найдите доверительный интервал для математического ожидания с надежностью 0.95."
      ],
      "metadata": {
        "id": "-zUClQM87I3M"
      }
    },
    {
      "cell_type": "code",
      "source": [
        "t = 2.055529438642871 # возьмем коэффициент Стьюдента из таблицы\n",
        "n = 27\n",
        "m = 174.2\n",
        "s = np.sqrt(25)\n",
        "A = conf_int(t, m, n, s)\n",
        "print(f'Доверительный интервал для математического ожидания с надежностью 0.95: {A[0]:.2f}, {A[1]:.2f}')"
      ],
      "metadata": {
        "colab": {
          "base_uri": "https://localhost:8080/"
        },
        "id": "PolTwK3J4HI8",
        "outputId": "6459179d-c8f5-4c89-9096-b2b07fcccf72"
      },
      "execution_count": 57,
      "outputs": [
        {
          "output_type": "stream",
          "name": "stdout",
          "text": [
            "Доверительный интервал для математического ожидания с надежностью 0.95: 172.22, 176.18\n"
          ]
        }
      ]
    }
  ]
}