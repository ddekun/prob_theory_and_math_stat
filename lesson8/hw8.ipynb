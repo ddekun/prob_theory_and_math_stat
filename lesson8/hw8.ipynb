{
  "nbformat": 4,
  "nbformat_minor": 0,
  "metadata": {
    "colab": {
      "name": "hw8.ipynb",
      "provenance": [],
      "collapsed_sections": [],
      "authorship_tag": "ABX9TyMX3hebF7kH+VK3W/BZQVd9",
      "include_colab_link": true
    },
    "kernelspec": {
      "name": "python3",
      "display_name": "Python 3"
    },
    "language_info": {
      "name": "python"
    }
  },
  "cells": [
    {
      "cell_type": "markdown",
      "metadata": {
        "id": "view-in-github",
        "colab_type": "text"
      },
      "source": [
        "<a href=\"https://colab.research.google.com/github/ddekun/prob_theory_and_math_stat/blob/lesson8/lesson8/hw8.ipynb\" target=\"_parent\"><img src=\"https://colab.research.google.com/assets/colab-badge.svg\" alt=\"Open In Colab\"/></a>"
      ]
    },
    {
      "cell_type": "markdown",
      "source": [
        "# Урок 8. Дисперсионный анализ. Логистическая регрессия"
      ],
      "metadata": {
        "id": "qM6M1dJ5BecC"
      }
    },
    {
      "cell_type": "code",
      "source": [
        "import numpy as np\n",
        "from scipy import stats"
      ],
      "metadata": {
        "id": "mHfVtdHkBuLq"
      },
      "execution_count": 28,
      "outputs": []
    },
    {
      "cell_type": "markdown",
      "source": [
        "### 1. Провести дисперсионный анализ для определения того, есть ли различия среднего роста среди взрослых футболистов, хоккеистов и штангистов. Даны значения роста в трех группах случайно выбранных спортсменов: Футболисты: 173, 175, 180, 178, 177, 185, 183, 182. Хоккеисты: 177, 179, 180, 188, 177, 172, 171, 184, 180. Штангисты: 172, 173, 169, 177, 166, 180, 178, 177, 172, 166, 170. alpha = 0.05."
      ],
      "metadata": {
        "id": "T95xAFU7BlPM"
      }
    },
    {
      "cell_type": "code",
      "execution_count": 18,
      "metadata": {
        "id": "meWIFUR3BaGt"
      },
      "outputs": [],
      "source": [
        "football_players = [173, 175, 180, 178, 177, 185, 183, 182]\n",
        "hockey_players = [177, 179, 180, 188, 177, 172, 171, 184, 180]\n",
        "lifters = [172, 173, 169, 177, 166, 180, 178, 177, 172, 166, 170]"
      ]
    },
    {
      "cell_type": "code",
      "source": [
        "y1 = np.array(football_players, dtype=np.float64)\n",
        "y2 = np.array(hockey_players, dtype=np.float64)\n",
        "y3 = np.array(lifters, dtype=np.float64)\n",
        "\n",
        "n1 = y1.shape[0]\n",
        "n2 = y2.shape[0]\n",
        "n3 = y3.shape[0]"
      ],
      "metadata": {
        "id": "gNV_kRd1Il3q"
      },
      "execution_count": 19,
      "outputs": []
    },
    {
      "cell_type": "markdown",
      "source": [
        "Выборочные средние по каждой группе:"
      ],
      "metadata": {
        "id": "-4c6PH3VKB03"
      }
    },
    {
      "cell_type": "code",
      "source": [
        "y1_mean = y1.mean()\n",
        "y2_mean = y2.mean()\n",
        "y3_mean = y3.mean()\n",
        "\n",
        "y1_mean, y2_mean, y3_mean"
      ],
      "metadata": {
        "colab": {
          "base_uri": "https://localhost:8080/"
        },
        "id": "XrHwxBWuI4QR",
        "outputId": "3c40b813-0a93-463c-8659-d0c8f75438ba"
      },
      "execution_count": 20,
      "outputs": [
        {
          "output_type": "execute_result",
          "data": {
            "text/plain": [
              "(179.125, 178.66666666666666, 172.72727272727272)"
            ]
          },
          "metadata": {},
          "execution_count": 20
        }
      ]
    },
    {
      "cell_type": "markdown",
      "source": [
        "Проверим статистическую значимость этого отличия. Соберём все значения роста спортсменов в один массив:"
      ],
      "metadata": {
        "id": "TX5A-oWIKH_j"
      }
    },
    {
      "cell_type": "code",
      "source": [
        "y = np.concatenate([y1, y2, y3])\n",
        "print(y)"
      ],
      "metadata": {
        "colab": {
          "base_uri": "https://localhost:8080/"
        },
        "id": "_WcvldsaJeZh",
        "outputId": "53e93890-992e-4b38-b0dc-ea93e5350217"
      },
      "execution_count": 21,
      "outputs": [
        {
          "output_type": "stream",
          "name": "stdout",
          "text": [
            "[173. 175. 180. 178. 177. 185. 183. 182. 177. 179. 180. 188. 177. 172.\n",
            " 171. 184. 180. 172. 173. 169. 177. 166. 180. 178. 177. 172. 166. 170.]\n"
          ]
        }
      ]
    },
    {
      "cell_type": "code",
      "source": [
        "y_mean = y.mean()\n",
        "y_mean"
      ],
      "metadata": {
        "colab": {
          "base_uri": "https://localhost:8080/"
        },
        "id": "mGwE27fbKcZl",
        "outputId": "df2a28c6-9aac-4085-bd71-735525924adc"
      },
      "execution_count": 22,
      "outputs": [
        {
          "output_type": "execute_result",
          "data": {
            "text/plain": [
              "176.46428571428572"
            ]
          },
          "metadata": {},
          "execution_count": 22
        }
      ]
    },
    {
      "cell_type": "markdown",
      "source": [
        "Найдём значения $S_F$ и $S_{res}$:"
      ],
      "metadata": {
        "id": "ATYYL0VKKzuk"
      }
    },
    {
      "cell_type": "code",
      "source": [
        "S2_F = n1 * (y1_mean - y_mean) ** 2 + n2 * (y2_mean - y_mean) ** 2 + n3 * (y3_mean - y_mean) ** 2\n",
        "\n",
        "S2_res = ((y1 - y1_mean) ** 2).sum() + ((y2 - y2_mean) ** 2).sum() + ((y3 - y3_mean) ** 2).sum()\n",
        "\n",
        "S2_F, S2_res"
      ],
      "metadata": {
        "colab": {
          "base_uri": "https://localhost:8080/"
        },
        "id": "k4da-iTmKhiw",
        "outputId": "06363e52-11af-45d9-ab2c-a9d913f2308f"
      },
      "execution_count": 23,
      "outputs": [
        {
          "output_type": "execute_result",
          "data": {
            "text/plain": [
              "(253.9074675324678, 577.0568181818182)"
            ]
          },
          "metadata": {},
          "execution_count": 23
        }
      ]
    },
    {
      "cell_type": "markdown",
      "source": [
        "Проверим выполнение равенства $S^2 = S_F^2 + S_{res}^2:$"
      ],
      "metadata": {
        "id": "mMCdphKOLDVq"
      }
    },
    {
      "cell_type": "code",
      "source": [
        "S2_F + S2_res, ((y - y_mean) ** 2).sum()"
      ],
      "metadata": {
        "colab": {
          "base_uri": "https://localhost:8080/"
        },
        "id": "WLG60zhmLEKN",
        "outputId": "6b1b5be1-9d97-4dc9-aee7-20256d530952"
      },
      "execution_count": 25,
      "outputs": [
        {
          "output_type": "execute_result",
          "data": {
            "text/plain": [
              "(830.964285714286, 830.9642857142854)"
            ]
          },
          "metadata": {},
          "execution_count": 25
        }
      ]
    },
    {
      "cell_type": "markdown",
      "source": [
        "Запишем оценки дисперсий:"
      ],
      "metadata": {
        "id": "xUgRmA_WNGta"
      }
    },
    {
      "cell_type": "code",
      "source": [
        "k = 3\n",
        "n = n1 + n2 + n3\n",
        "\n",
        "k1 = k - 1\n",
        "k2 = n - k\n",
        "\n",
        "sigma2_F = S2_F / k1\n",
        "sigma2_res = S2_res / k2\n",
        "\n",
        "sigma2_F, sigma2_res"
      ],
      "metadata": {
        "colab": {
          "base_uri": "https://localhost:8080/"
        },
        "id": "SFpQaSo_MiUt",
        "outputId": "31871056-e526-4300-9653-3f4e7f79007f"
      },
      "execution_count": 26,
      "outputs": [
        {
          "output_type": "execute_result",
          "data": {
            "text/plain": [
              "(126.9537337662339, 23.08227272727273)"
            ]
          },
          "metadata": {},
          "execution_count": 26
        }
      ]
    },
    {
      "cell_type": "markdown",
      "source": [
        "Итак, значение статистики $T$:"
      ],
      "metadata": {
        "id": "AjUaaRQTNT7t"
      }
    },
    {
      "cell_type": "code",
      "source": [
        "T = sigma2_F / sigma2_res\n",
        "T"
      ],
      "metadata": {
        "colab": {
          "base_uri": "https://localhost:8080/"
        },
        "id": "0gk_OCujNYEL",
        "outputId": "3728c1b5-2b98-4b68-b875-fdb1b4f88221"
      },
      "execution_count": 27,
      "outputs": [
        {
          "output_type": "execute_result",
          "data": {
            "text/plain": [
              "5.500053450812598"
            ]
          },
          "metadata": {},
          "execution_count": 27
        }
      ]
    },
    {
      "cell_type": "markdown",
      "source": [
        "Зафиксируем уровень значимости $\\alpha = 0.05$. Для него найдём критическое значение $F_{crit}$:"
      ],
      "metadata": {
        "id": "mclnJw5fNifD"
      }
    },
    {
      "cell_type": "code",
      "source": [
        "alpha = 0.05\n",
        "\n",
        "F_crit = stats.f.ppf(1 - alpha, k1, k2)\n",
        "F_crit"
      ],
      "metadata": {
        "colab": {
          "base_uri": "https://localhost:8080/"
        },
        "id": "Eeg1iDi3NjI8",
        "outputId": "7d29c738-d8da-43e0-b3d5-39f41a3e7427"
      },
      "execution_count": 29,
      "outputs": [
        {
          "output_type": "execute_result",
          "data": {
            "text/plain": [
              "3.3851899614491687"
            ]
          },
          "metadata": {},
          "execution_count": 29
        }
      ]
    },
    {
      "cell_type": "markdown",
      "source": [
        "Видим, что $T > F_{crit}$, поэтому заключаем, что отличие роста спортсменов действительно является статистически значимым."
      ],
      "metadata": {
        "id": "rBp3CM5uOHV1"
      }
    }
  ]
}