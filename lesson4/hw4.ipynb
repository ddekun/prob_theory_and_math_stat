{
  "nbformat": 4,
  "nbformat_minor": 0,
  "metadata": {
    "colab": {
      "name": "hw4.ipynb",
      "provenance": [],
      "collapsed_sections": [],
      "authorship_tag": "ABX9TyOw7laDkfQQWrm+OPx6JCia",
      "include_colab_link": true
    },
    "kernelspec": {
      "name": "python3",
      "display_name": "Python 3"
    },
    "language_info": {
      "name": "python"
    }
  },
  "cells": [
    {
      "cell_type": "markdown",
      "metadata": {
        "id": "view-in-github",
        "colab_type": "text"
      },
      "source": [
        "<a href=\"https://colab.research.google.com/github/ddekun/prob_theory_and_math_stat/blob/lesson4/lesson4/hw4.ipynb\" target=\"_parent\"><img src=\"https://colab.research.google.com/assets/colab-badge.svg\" alt=\"Open In Colab\"/></a>"
      ]
    },
    {
      "cell_type": "markdown",
      "source": [
        "# **Урок 4. Непрерывные случайные величины. Функция распределения и плотность распределения вероятностей. Равномерное и нормальное распределение. Центральная предельная теорема**"
      ],
      "metadata": {
        "id": "Vn7396sCUMRu"
      }
    },
    {
      "cell_type": "code",
      "source": [
        "import pandas as pd\n",
        "import numpy as np\n",
        "import scipy.stats as sps"
      ],
      "metadata": {
        "id": "ZPEwM8zTXTcS"
      },
      "execution_count": null,
      "outputs": []
    },
    {
      "cell_type": "markdown",
      "source": [
        "### 1. Случайная непрерывная величина A имеет равномерное распределение на промежутке (200, 800]. Найдите ее среднее значение и дисперсию."
      ],
      "metadata": {
        "id": "gv1H9TNcUcFA"
      }
    },
    {
      "cell_type": "code",
      "source": [
        "a = 200\n",
        "b = 800"
      ],
      "metadata": {
        "id": "AjYfsttdW69S"
      },
      "execution_count": null,
      "outputs": []
    },
    {
      "cell_type": "code",
      "execution_count": null,
      "metadata": {
        "colab": {
          "base_uri": "https://localhost:8080/"
        },
        "id": "4xkkwnJYUED9",
        "outputId": "1f7d6d20-4b0f-4f9c-d94d-3398984c446e"
      },
      "outputs": [
        {
          "output_type": "stream",
          "name": "stdout",
          "text": [
            "Среднее значение величины A - 500.0\n",
            "Дисперсия величины А - 30000.0\n"
          ]
        }
      ],
      "source": [
        "M = (a + b) / 2\n",
        "D = (b - a)**2 / 12\n",
        "print(f'Среднее значение величины A - {M}\\nДисперсия величины А - {D}')"
      ]
    },
    {
      "cell_type": "markdown",
      "source": [
        "### 2. О случайной непрерывной равномерно распределенной величине B известно, что ее дисперсия равна 0.2. Можно ли найти правую границу величины B и ее среднее значение зная, что левая граница равна 0.5? Если да, найдите ее."
      ],
      "metadata": {
        "id": "u7ni7mM2X5wp"
      }
    },
    {
      "cell_type": "code",
      "source": [
        "D = 0.2\n",
        "a = 0.5"
      ],
      "metadata": {
        "id": "s5e5w83FHHOK"
      },
      "execution_count": null,
      "outputs": []
    },
    {
      "cell_type": "code",
      "source": [
        "# D = (b - a) ** 2 / 12\n",
        "b = (12 * D)**0.5 + a\n",
        "print(f'Правая граница величины равна - {b}')"
      ],
      "metadata": {
        "id": "27PqXO2gXFfY",
        "colab": {
          "base_uri": "https://localhost:8080/"
        },
        "outputId": "2d759ed4-d7d7-48be-e91c-c7cbfcbabc01"
      },
      "execution_count": null,
      "outputs": [
        {
          "output_type": "stream",
          "name": "stdout",
          "text": [
            "Правая граница величины равна - 2.049193338482967\n"
          ]
        }
      ]
    },
    {
      "cell_type": "markdown",
      "source": [
        "### 3. Непрерывная случайная величина X распределена нормально и задана плотностью распределения f(x) = (1 / (4 * sqrt(2*pi))) * (exp(-(x+2)**2) / 32). Найдите: а). M(X) б). D(X) в). std(X) (среднее квадратичное отклонение)"
      ],
      "metadata": {
        "id": "DWincUfIIUBB"
      }
    },
    {
      "cell_type": "markdown",
      "source": [
        "Нормальное распределение — это распределение вероятностей непрерывной случайной величины $X$, плотность вероятности которой подчиняется формуле:"
      ],
      "metadata": {
        "id": "-AfuZybnLeVd"
      }
    },
    {
      "cell_type": "markdown",
      "source": [
        "$$f(x) = \\frac{1}{\\sigma \\sqrt{2 \\pi}} e ^ {- \\frac{(x - a)^2}{2 \\sigma^2}},$$\n",
        "\n",
        "---"
      ],
      "metadata": {
        "id": "1rjBQq8TMnwm"
      }
    },
    {
      "cell_type": "markdown",
      "source": [
        "где $a = M(X), \\; \\sigma^2 = D(X).$"
      ],
      "metadata": {
        "id": "vzymrDozNmEc"
      }
    },
    {
      "cell_type": "code",
      "source": [
        "M = -2\n",
        "D = 4**2\n",
        "std = 4\n",
        "print(f'Найдите:\\nа). M(X) = {M}\\nб). D(X) = {D}\\nв). std(X) = {std}')"
      ],
      "metadata": {
        "colab": {
          "base_uri": "https://localhost:8080/"
        },
        "id": "jTNsv3eTDXOu",
        "outputId": "20e94e10-6fed-4edf-a795-ede0f5472d16"
      },
      "execution_count": null,
      "outputs": [
        {
          "output_type": "stream",
          "name": "stdout",
          "text": [
            "Найдите:\n",
            "а). M(X) = -2\n",
            "б). D(X) = 16\n",
            "в). std(X) = 4\n"
          ]
        }
      ]
    },
    {
      "cell_type": "markdown",
      "source": [
        "### 4. Рост взрослого населения города X имеет нормальное распределение. Причем, средний рост равен 174 см, а среднее квадратичное отклонение равно 8 см. Какова вероятность того, что случайным образом выбранный взрослый человек имеет рост: а). больше 182 см б). больше 190 см в). от 166 см до 190 см г). от 166 см до 182 см д). от 158 см до 190 см е). не выше 150 см или не ниже 190 см ё). не выше 150 см или не ниже 198 см ж). ниже 166 см."
      ],
      "metadata": {
        "id": "r7OjxdAwPz0W"
      }
    },
    {
      "cell_type": "markdown",
      "source": [
        "**Создадим функцию нормального распределения**"
      ],
      "metadata": {
        "id": "fl2FZuSXbYEA"
      }
    },
    {
      "cell_type": "code",
      "source": [
        "f = sps.norm(loc=174, scale=8)"
      ],
      "metadata": {
        "id": "1_qlbtGYbUzz"
      },
      "execution_count": null,
      "outputs": []
    },
    {
      "cell_type": "markdown",
      "source": [
        "а). больше 182 см"
      ],
      "metadata": {
        "id": "MzO0q3WnbRAF"
      }
    },
    {
      "cell_type": "code",
      "source": [
        "1 - f.cdf(182)\n"
      ],
      "metadata": {
        "colab": {
          "base_uri": "https://localhost:8080/"
        },
        "id": "aOyBOW7sDYvw",
        "outputId": "b134fcab-7061-4ee9-f18e-2360ca3e72a8"
      },
      "execution_count": null,
      "outputs": [
        {
          "output_type": "execute_result",
          "data": {
            "text/plain": [
              "0.15865525393145707"
            ]
          },
          "metadata": {},
          "execution_count": 16
        }
      ]
    },
    {
      "cell_type": "markdown",
      "source": [
        "б). больше 190 см"
      ],
      "metadata": {
        "id": "HXJ0h9evbt_D"
      }
    },
    {
      "cell_type": "code",
      "source": [
        "1 - f.cdf(190)"
      ],
      "metadata": {
        "colab": {
          "base_uri": "https://localhost:8080/"
        },
        "id": "3xxNpKnKahWe",
        "outputId": "93e1b922-6051-4d44-9f47-322cf567e22e"
      },
      "execution_count": null,
      "outputs": [
        {
          "output_type": "execute_result",
          "data": {
            "text/plain": [
              "0.02275013194817921"
            ]
          },
          "metadata": {},
          "execution_count": 17
        }
      ]
    },
    {
      "cell_type": "markdown",
      "source": [
        "в). от 166 см до 190 см"
      ],
      "metadata": {
        "id": "IZBmDB9Kbzvk"
      }
    },
    {
      "cell_type": "code",
      "source": [
        "f.cdf(190) - f.cdf(166)"
      ],
      "metadata": {
        "colab": {
          "base_uri": "https://localhost:8080/"
        },
        "id": "3Lbe_nmlbyjI",
        "outputId": "658eb81d-90e2-42bb-ec81-81b90c55ecf5"
      },
      "execution_count": null,
      "outputs": [
        {
          "output_type": "execute_result",
          "data": {
            "text/plain": [
              "0.8185946141203637"
            ]
          },
          "metadata": {},
          "execution_count": 18
        }
      ]
    },
    {
      "cell_type": "markdown",
      "source": [
        "г). от 166 см до 182 см"
      ],
      "metadata": {
        "id": "BOZHlhiNcjEm"
      }
    },
    {
      "cell_type": "code",
      "source": [
        "f.cdf(182) - f.cdf(166)"
      ],
      "metadata": {
        "colab": {
          "base_uri": "https://localhost:8080/"
        },
        "id": "fGKLS2yYcexK",
        "outputId": "f30d86e9-5bd2-4e1e-bb35-988117e2a20b"
      },
      "execution_count": null,
      "outputs": [
        {
          "output_type": "execute_result",
          "data": {
            "text/plain": [
              "0.6826894921370859"
            ]
          },
          "metadata": {},
          "execution_count": 19
        }
      ]
    },
    {
      "cell_type": "markdown",
      "source": [
        "д). от 158 см до 190 см"
      ],
      "metadata": {
        "id": "xQgMwWIcdN_2"
      }
    },
    {
      "cell_type": "code",
      "source": [
        "f.cdf(190) - f.cdf(158)"
      ],
      "metadata": {
        "colab": {
          "base_uri": "https://localhost:8080/"
        },
        "id": "yMf-6Uybc2q0",
        "outputId": "f7a47b97-1e56-4bb3-8ab1-6b39b7bfed09"
      },
      "execution_count": null,
      "outputs": [
        {
          "output_type": "execute_result",
          "data": {
            "text/plain": [
              "0.9544997361036416"
            ]
          },
          "metadata": {},
          "execution_count": 20
        }
      ]
    },
    {
      "cell_type": "markdown",
      "source": [
        "е). не выше 150 см или не ниже 190 см"
      ],
      "metadata": {
        "id": "L_WB8apZdbul"
      }
    },
    {
      "cell_type": "code",
      "source": [
        "f.cdf(150) + (1 - f.cdf(190))"
      ],
      "metadata": {
        "colab": {
          "base_uri": "https://localhost:8080/"
        },
        "id": "Afeau5QbdXj7",
        "outputId": "d8c7ccbe-353a-4344-ba22-33d297743e18"
      },
      "execution_count": null,
      "outputs": [
        {
          "output_type": "execute_result",
          "data": {
            "text/plain": [
              "0.0241000299798093"
            ]
          },
          "metadata": {},
          "execution_count": 21
        }
      ]
    },
    {
      "cell_type": "markdown",
      "source": [
        "ё). не выше 150 см или не ниже 198 см"
      ],
      "metadata": {
        "id": "xbHEUKX8duoF"
      }
    },
    {
      "cell_type": "code",
      "source": [
        "f.cdf(150) + (1 - f.cdf(198))"
      ],
      "metadata": {
        "colab": {
          "base_uri": "https://localhost:8080/"
        },
        "id": "38yPKtZwdoab",
        "outputId": "005b6e0e-15ab-47ff-a249-2199f4395638"
      },
      "execution_count": null,
      "outputs": [
        {
          "output_type": "execute_result",
          "data": {
            "text/plain": [
              "0.0026997960632601965"
            ]
          },
          "metadata": {},
          "execution_count": 22
        }
      ]
    },
    {
      "cell_type": "markdown",
      "source": [
        "ж). ниже 166 см"
      ],
      "metadata": {
        "id": "xOUvszyid621"
      }
    },
    {
      "cell_type": "code",
      "source": [
        "f.cdf(166)"
      ],
      "metadata": {
        "colab": {
          "base_uri": "https://localhost:8080/"
        },
        "id": "dBQwVV7Vd0YG",
        "outputId": "920ea39d-d26d-4fe5-e535-ccdf670673c9"
      },
      "execution_count": null,
      "outputs": [
        {
          "output_type": "execute_result",
          "data": {
            "text/plain": [
              "0.15865525393145707"
            ]
          },
          "metadata": {},
          "execution_count": 23
        }
      ]
    },
    {
      "cell_type": "markdown",
      "source": [
        "### 5. На сколько сигм (средних квадратичных отклонений) отклоняется рост человека, равный 190 см, от математического ожидания роста в популяции, в которой M(X) = 178 см и D(X) = 25 кв.см?"
      ],
      "metadata": {
        "id": "M7ECfVaOg4jK"
      }
    },
    {
      "cell_type": "code",
      "source": [
        "s = (190 - 178) / np.sqrt(25)\n",
        "print(f'Рост человека равный 190 см, отклоняется на {s} сигм')"
      ],
      "metadata": {
        "colab": {
          "base_uri": "https://localhost:8080/"
        },
        "id": "LfXBU8uRd_ef",
        "outputId": "16f92346-7573-4b66-b643-5858d3f10874"
      },
      "execution_count": null,
      "outputs": [
        {
          "output_type": "stream",
          "name": "stdout",
          "text": [
            "Рост человека равный 190 см, отклоняется на 2.4 сигм\n"
          ]
        }
      ]
    }
  ]
}