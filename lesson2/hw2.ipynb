{
  "nbformat": 4,
  "nbformat_minor": 0,
  "metadata": {
    "colab": {
      "name": "hw2.ipynb",
      "provenance": [],
      "collapsed_sections": [
        "7jK0MHChzWs3",
        "SFiE0CfWxk_s",
        "5VU4ayU92h7k"
      ],
      "authorship_tag": "ABX9TyMxTsZaMPCiTBNJJZ7apftz",
      "include_colab_link": true
    },
    "kernelspec": {
      "name": "python3",
      "display_name": "Python 3"
    },
    "language_info": {
      "name": "python"
    }
  },
  "cells": [
    {
      "cell_type": "markdown",
      "metadata": {
        "id": "view-in-github",
        "colab_type": "text"
      },
      "source": [
        "<a href=\"https://colab.research.google.com/github/ddekun/prob_theory_and_math_stat/blob/lesson2/lesson2/hw2.ipynb\" target=\"_parent\"><img src=\"https://colab.research.google.com/assets/colab-badge.svg\" alt=\"Open In Colab\"/></a>"
      ]
    },
    {
      "cell_type": "markdown",
      "source": [
        "# **Урок 2. Дискретные случайные величины. Закон распределения вероятностей. Биномиальный закон распределения. Распределение Пуассона**"
      ],
      "metadata": {
        "id": "WIBvxMgMzNAa"
      }
    },
    {
      "cell_type": "code",
      "source": [
        "from math import factorial\n",
        "import numpy as np"
      ],
      "metadata": {
        "id": "f55dTV5Q1aJc"
      },
      "execution_count": 2,
      "outputs": []
    },
    {
      "cell_type": "markdown",
      "source": [
        "Число сочетаний из n элементов по k элементов в каждом (в сочетаниях порядок не важен)."
      ],
      "metadata": {
        "id": "vHhq3gPo1WAi"
      }
    },
    {
      "cell_type": "code",
      "source": [
        "# Сочетания\n",
        "def combinations(n, k):\n",
        "    return int(factorial(n) / (factorial(k) * factorial(n - k)))\n",
        "\n",
        "# Формула Бернулли\n",
        "def fb(k, n, p):\n",
        "    q = 1 - p\n",
        "    return combinations(n, k) * p**k * q**(n - k)\n",
        "\n",
        "# Формула Пуассона\n",
        "def fp(m, n, p):\n",
        "    lambda_ = n * p\n",
        "    return (lambda_**m / factorial(m)) * np.exp(-lambda_)"
      ],
      "metadata": {
        "id": "IcWAN--Q1VWH"
      },
      "execution_count": 3,
      "outputs": []
    },
    {
      "cell_type": "markdown",
      "source": [
        "### 1. Вероятность того, что стрелок попадет в мишень, выстрелив один раз, равна 0.8. Стрелок выстрелил 100 раз. Найдите вероятность того, что стрелок попадет в цель ровно 85 раз."
      ],
      "metadata": {
        "id": "7jK0MHChzWs3"
      }
    },
    {
      "cell_type": "markdown",
      "source": [
        "Расчитаем с помощью формулы Бернулли."
      ],
      "metadata": {
        "id": "H99wk2cbtYno"
      }
    },
    {
      "cell_type": "code",
      "execution_count": null,
      "metadata": {
        "colab": {
          "base_uri": "https://localhost:8080/"
        },
        "id": "-Bzeo68ozKKl",
        "outputId": "64714aae-2680-4fd0-d719-5297a7deebf9"
      },
      "outputs": [
        {
          "output_type": "stream",
          "name": "stdout",
          "text": [
            "Вероятность того, что стрелок попадет в цель ровно 85 раз - 0.048\n"
          ]
        }
      ],
      "source": [
        "n = 100\n",
        "k = 85\n",
        "p = 0.8\n",
        "print(f'Вероятность того, что стрелок попадет в цель ровно 85 раз - {fb(k, n, p):.3f}')"
      ]
    },
    {
      "cell_type": "markdown",
      "source": [
        "### 2. Вероятность того, что лампочка перегорит в течение первого дня эксплуатации, равна 0.0004. В жилом комплексе после ремонта в один день включили 5000 новых лампочек. Какова вероятность, что ни одна из них не перегорит в первый день? Какова вероятность, что перегорят ровно две?"
      ],
      "metadata": {
        "id": "SFiE0CfWxk_s"
      }
    },
    {
      "cell_type": "markdown",
      "source": [
        "Расчитаем с помощью формулы Пуассона."
      ],
      "metadata": {
        "id": "rds7jwMi15zP"
      }
    },
    {
      "cell_type": "code",
      "source": [
        "n = 5000\n",
        "p = 0.0004"
      ],
      "metadata": {
        "id": "xxyVrI4l3gSM"
      },
      "execution_count": null,
      "outputs": []
    },
    {
      "cell_type": "code",
      "source": [
        "m = 0\n",
        "print(f'Вероятность, что ни одна из них не перегорит в первый день - {fp(m, n, p)}')"
      ],
      "metadata": {
        "colab": {
          "base_uri": "https://localhost:8080/"
        },
        "id": "68DMGk9E0Ky-",
        "outputId": "9ae69e6b-be95-47b4-9647-97c0dd77959d"
      },
      "execution_count": null,
      "outputs": [
        {
          "output_type": "stream",
          "name": "stdout",
          "text": [
            "Вероятность, что ни одна из них не перегорит в первый день - 0.1353352832366127\n"
          ]
        }
      ]
    },
    {
      "cell_type": "code",
      "source": [
        "m = 2\n",
        "print(f'Вероятность, что перегорят ровно две - {fp(m, n, p)}')"
      ],
      "metadata": {
        "colab": {
          "base_uri": "https://localhost:8080/"
        },
        "id": "FidvgNWn0h9w",
        "outputId": "d59b2fd5-6576-47e7-a610-c976e9613e4e"
      },
      "execution_count": null,
      "outputs": [
        {
          "output_type": "stream",
          "name": "stdout",
          "text": [
            "Вероятность, что перегорят ровно две - 0.2706705664732254\n"
          ]
        }
      ]
    },
    {
      "cell_type": "markdown",
      "source": [
        "### 3. Монету подбросили 144 раза. Какова вероятность, что орел выпадет ровно 70 раз?"
      ],
      "metadata": {
        "id": "5VU4ayU92h7k"
      }
    },
    {
      "cell_type": "markdown",
      "source": [
        "Расчитаем с помощью формулы Бернулли."
      ],
      "metadata": {
        "id": "GGnzbur1RJSS"
      }
    },
    {
      "cell_type": "code",
      "source": [
        "k = 70\n",
        "n = 144\n",
        "p = 0.5\n",
        "print(f'Вероятность, что орел выпадет ровно 70 раз - {fb(k, n, p):.3f}')"
      ],
      "metadata": {
        "colab": {
          "base_uri": "https://localhost:8080/"
        },
        "id": "eIjpMWCIROIB",
        "outputId": "1d5ebd32-852b-4807-9e38-9eedc92f7b1e"
      },
      "execution_count": null,
      "outputs": [
        {
          "output_type": "stream",
          "name": "stdout",
          "text": [
            "Вероятность, что орел выпадет ровно 70 раз - 0.063\n"
          ]
        }
      ]
    },
    {
      "cell_type": "markdown",
      "source": [
        "### 4. В первом ящике находится 10 мячей, из которых 7 - белые. Во втором ящике - 11 мячей, из которых 9 белых. Из каждого ящика вытаскивают случайным образом по два мяча. Какова вероятность того, что все мячи белые? Какова вероятность того, что ровно два мяча белые? Какова вероятность того, что хотя бы один мяч белый?"
      ],
      "metadata": {
        "id": "UPT4jWLqSDgQ"
      }
    },
    {
      "cell_type": "code",
      "source": [
        "PA = combinations(7, 2) / combinations(10, 2) * combinations(9, 2) / combinations(11, 2)\n",
        "print(f'Вероятность того, что все мячи белые - {PA:.3f}')"
      ],
      "metadata": {
        "id": "doC_zJSDR5hS",
        "colab": {
          "base_uri": "https://localhost:8080/"
        },
        "outputId": "b41a79de-d199-4825-a35d-f340d170c557"
      },
      "execution_count": 28,
      "outputs": [
        {
          "output_type": "stream",
          "name": "stdout",
          "text": [
            "Вероятность того, что все мячи белые - 0.305\n"
          ]
        }
      ]
    },
    {
      "cell_type": "markdown",
      "source": [
        "A1 - из первого ящика вынули два белых мяча\n",
        "\n",
        "А2 - из второго ящика вынули только черные мячи\n",
        "\n",
        "А3 - из второго ящика вынули два белых мяча\n",
        "\n",
        "А4 - из первого ящика вынули только черные мячи\n",
        "\n",
        "А5 - из первого ящика вынули один белый мячи\n",
        "\n",
        "А6 - из второго ящика вынули один белый мячи"
      ],
      "metadata": {
        "id": "R5fUA86inrA4"
      }
    },
    {
      "cell_type": "markdown",
      "source": [
        "А = А1 * А2 + A3 * А4 + А5 * А6 - вынули два белых мяча"
      ],
      "metadata": {
        "id": "vaVy5oONn1Iy"
      }
    },
    {
      "cell_type": "code",
      "source": [
        "A1 = combinations(7, 2) / combinations(10, 2)\n",
        "A2 = combinations(2, 2) / combinations(11, 2)\n",
        "A3 = combinations(9, 2) / combinations(11, 2)\n",
        "A4 = combinations(3, 2) / combinations(10, 2)\n",
        "A5 = (factorial(7) / (factorial(1)*factorial(7 - 1)) * factorial(3)) / (factorial(1)*factorial(3 - 1)) / (factorial(10) / (factorial(2)*factorial(10 - 2))) \n",
        "A6 = (factorial(9) / (factorial(1)*factorial(9 - 1)) * factorial(2)) / (factorial(1)*factorial(2 - 1)) / (factorial(11) / (factorial(2)*factorial(11 - 2))) "
      ],
      "metadata": {
        "id": "Cdy2cWPcxk7Y"
      },
      "execution_count": 26,
      "outputs": []
    },
    {
      "cell_type": "code",
      "source": [
        "A = A1 * A2 + A3 * A4 + A5 * A6\n",
        "print(f'Вероятность того, что ровно два мяча белые - {A:.3f}')"
      ],
      "metadata": {
        "colab": {
          "base_uri": "https://localhost:8080/"
        },
        "id": "oqcGqOQLjnOt",
        "outputId": "4a06578a-b81e-40e7-db98-ea040659022e"
      },
      "execution_count": 31,
      "outputs": [
        {
          "output_type": "stream",
          "name": "stdout",
          "text": [
            "Вероятность того, что ровно два мяча белые - 0.205\n"
          ]
        }
      ]
    },
    {
      "cell_type": "code",
      "source": [
        "P = 1 - combinations(3, 2) / combinations(10, 2) * combinations(2, 2) / combinations(11, 2)\n",
        "print(f'Вероятность того, что хотя бы один мяч белый - {P:.3f}')\n"
      ],
      "metadata": {
        "colab": {
          "base_uri": "https://localhost:8080/"
        },
        "id": "lgL89b5npBKp",
        "outputId": "779feef1-1b77-44ef-98ce-ed9304e3d184"
      },
      "execution_count": 35,
      "outputs": [
        {
          "output_type": "stream",
          "name": "stdout",
          "text": [
            "Вероятность того, что хотя бы один мяч белый - 0.999\n"
          ]
        }
      ]
    }
  ]
}