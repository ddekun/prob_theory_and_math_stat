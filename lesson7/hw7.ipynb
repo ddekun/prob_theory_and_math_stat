{
  "nbformat": 4,
  "nbformat_minor": 0,
  "metadata": {
    "colab": {
      "name": "hw7.ipynb",
      "provenance": [],
      "collapsed_sections": [],
      "authorship_tag": "ABX9TyOh3cJuQzfelOl613jsZfHb",
      "include_colab_link": true
    },
    "kernelspec": {
      "name": "python3",
      "display_name": "Python 3"
    },
    "language_info": {
      "name": "python"
    }
  },
  "cells": [
    {
      "cell_type": "markdown",
      "metadata": {
        "id": "view-in-github",
        "colab_type": "text"
      },
      "source": [
        "<a href=\"https://colab.research.google.com/github/ddekun/prob_theory_and_math_stat/blob/lesson7/lesson7/hw7.ipynb\" target=\"_parent\"><img src=\"https://colab.research.google.com/assets/colab-badge.svg\" alt=\"Open In Colab\"/></a>"
      ]
    },
    {
      "cell_type": "markdown",
      "source": [
        "# **Урок 7. Многомерный статистический анализ. Линейная регрессия**"
      ],
      "metadata": {
        "id": "cxjcjB9NfRpk"
      }
    },
    {
      "cell_type": "markdown",
      "source": [
        "### __Задача 1__\n",
        "\n",
        "Даны значения величины заработной платы заемщиков банка (`salary`) и значения их поведенческого кредитного скоринга (`scoring`):\n",
        "```\n",
        "salary = [35, 45, 190, 200, 40, 70, 54, 150, 120, 110]\n",
        "scoring = [401, 574, 874, 919, 459, 739, 653, 902, 746, 832]\n",
        "```\n",
        "Возьмём в качестве признака значение `salary`, а в качестве целевой переменной - `scoring`.\n",
        "\n",
        "1. Найдите коэффициенты линейной регрессии с помощью формул для парной регрессии, а затем с помощью метода наименьших квадратов.\n",
        "2. Постройте `scatter plot` по данным и отметьте на нём прямую линейной регрессии, полученную в п. 1.\n",
        "3. Посчитайте коэффициент детерминации, среднюю ошибку аппроксимации.\n",
        "4. Оцените построенное уравнение регрессии с помощью F-критерия Фишера.\n",
        "5. Оцените значимость получившихся параметров уравнения регрессии и постройте для них доверительные интервалы с помощью t-статистики Стьюдента."
      ],
      "metadata": {
        "id": "2kR00H8ffftB"
      }
    },
    {
      "cell_type": "code",
      "source": [
        "import numpy as np\n",
        "import pandas as pd\n",
        "from matplotlib import pyplot as plt\n",
        "from scipy import stats"
      ],
      "metadata": {
        "id": "ZMszeVGLfjKa"
      },
      "execution_count": 25,
      "outputs": []
    },
    {
      "cell_type": "code",
      "source": [
        "X = np.array([35, 45, 190, 200, 40, 70, 54, 150, 120, 110], dtype=np.float64)\n",
        "Y = np.array([401, 574, 874, 919, 459, 739, 653, 902, 746, 832], dtype=np.float64)"
      ],
      "metadata": {
        "id": "6mytV4UKrE6M"
      },
      "execution_count": 26,
      "outputs": []
    },
    {
      "cell_type": "markdown",
      "source": [
        "**1. Найдём коэффициенты линейной регрессии:**"
      ],
      "metadata": {
        "id": "0L8RLDDhsylG"
      }
    },
    {
      "cell_type": "code",
      "source": [
        "b1 = (np.mean(X * Y) - np.mean(X) * np.mean(Y)) / (np.mean(X ** 2) - np.mean(X) ** 2)\n",
        "b1"
      ],
      "metadata": {
        "colab": {
          "base_uri": "https://localhost:8080/"
        },
        "id": "KzR-m0Wmrc8P",
        "outputId": "d20cad14-2b7e-4837-dd3c-511b1ed27813"
      },
      "execution_count": 27,
      "outputs": [
        {
          "output_type": "execute_result",
          "data": {
            "text/plain": [
              "2.620538882402765"
            ]
          },
          "metadata": {},
          "execution_count": 27
        }
      ]
    },
    {
      "cell_type": "code",
      "source": [
        "b0 = np.mean(Y) - b1 * np.mean(X)\n",
        "b0"
      ],
      "metadata": {
        "colab": {
          "base_uri": "https://localhost:8080/"
        },
        "id": "lBoS5L8jtMRN",
        "outputId": "36eb8c9a-a278-4df0-c152-fc2a0a175f75"
      },
      "execution_count": 28,
      "outputs": [
        {
          "output_type": "execute_result",
          "data": {
            "text/plain": [
              "444.1773573243596"
            ]
          },
          "metadata": {},
          "execution_count": 28
        }
      ]
    },
    {
      "cell_type": "markdown",
      "source": [
        "Модель линейной регрессии имеет вид:\n",
        "\n",
        "$$y = 444.2 + 2.62 \\cdot x$$"
      ],
      "metadata": {
        "id": "-FvVUy3RtXXM"
      }
    },
    {
      "cell_type": "markdown",
      "source": [
        "Коэффициенты линейной регрессии с помощью метода наименьших квадратов."
      ],
      "metadata": {
        "id": "mEYIHfKvmMEy"
      }
    },
    {
      "cell_type": "code",
      "source": [
        "x2 = pd.DataFrame(X)\n",
        "y2 = pd.DataFrame(Y)\n",
        "x2.shape"
      ],
      "metadata": {
        "colab": {
          "base_uri": "https://localhost:8080/"
        },
        "id": "Yi3H15sCl-gn",
        "outputId": "3e01eab2-b0fe-41a4-f3fc-cadd70c6e009"
      },
      "execution_count": 29,
      "outputs": [
        {
          "output_type": "execute_result",
          "data": {
            "text/plain": [
              "(10, 1)"
            ]
          },
          "metadata": {},
          "execution_count": 29
        }
      ]
    },
    {
      "cell_type": "markdown",
      "source": [
        "Добавляем столбец из 1, соответствующий фиктивному фактору."
      ],
      "metadata": {
        "id": "R4qkzRDJopAp"
      }
    },
    {
      "cell_type": "code",
      "source": [
        "ones = np.ones((x2.shape[0], 1))\n",
        "x2 = np.hstack((ones, x2))\n",
        "x2.shape"
      ],
      "metadata": {
        "colab": {
          "base_uri": "https://localhost:8080/"
        },
        "id": "qHW_P9WwmqN4",
        "outputId": "ca03488b-dda8-4010-97a3-c59bf966a3ae"
      },
      "execution_count": 30,
      "outputs": [
        {
          "output_type": "execute_result",
          "data": {
            "text/plain": [
              "(10, 2)"
            ]
          },
          "metadata": {},
          "execution_count": 30
        }
      ]
    },
    {
      "cell_type": "code",
      "source": [
        "x2"
      ],
      "metadata": {
        "colab": {
          "base_uri": "https://localhost:8080/"
        },
        "id": "MwbdgjSNnjLy",
        "outputId": "1f5141aa-e12b-411a-8ee5-f5a97b9e05f7"
      },
      "execution_count": 31,
      "outputs": [
        {
          "output_type": "execute_result",
          "data": {
            "text/plain": [
              "array([[  1.,  35.],\n",
              "       [  1.,  45.],\n",
              "       [  1., 190.],\n",
              "       [  1., 200.],\n",
              "       [  1.,  40.],\n",
              "       [  1.,  70.],\n",
              "       [  1.,  54.],\n",
              "       [  1., 150.],\n",
              "       [  1., 120.],\n",
              "       [  1., 110.]])"
            ]
          },
          "metadata": {},
          "execution_count": 31
        }
      ]
    },
    {
      "cell_type": "markdown",
      "source": [
        "Запишем матрицу $X^\\top X$ и посчитаем её определитель."
      ],
      "metadata": {
        "id": "Gw8puEpzoSTU"
      }
    },
    {
      "cell_type": "code",
      "source": [
        "XTX = x2.T.dot(x2)\n",
        "np.linalg.det(XTX)"
      ],
      "metadata": {
        "colab": {
          "base_uri": "https://localhost:8080/"
        },
        "id": "SOeUf9ognq6F",
        "outputId": "51356bda-ceda-49a8-de31-b255280a7b84"
      },
      "execution_count": 32,
      "outputs": [
        {
          "output_type": "execute_result",
          "data": {
            "text/plain": [
              "349464.00000000023"
            ]
          },
          "metadata": {},
          "execution_count": 32
        }
      ]
    },
    {
      "cell_type": "markdown",
      "source": [
        "Определитель не близок к нулю, поэтому можно записать аналитическое решение:"
      ],
      "metadata": {
        "id": "mrQgotBgonCK"
      }
    },
    {
      "cell_type": "code",
      "source": [
        "XTX_inv = np.linalg.inv(XTX)\n",
        "b = XTX_inv.dot(x2.T).dot(y2)\n",
        "b"
      ],
      "metadata": {
        "colab": {
          "base_uri": "https://localhost:8080/"
        },
        "id": "VooayUM-olFM",
        "outputId": "241ec4df-92cc-410c-c274-2d0e65f94d48"
      },
      "execution_count": 33,
      "outputs": [
        {
          "output_type": "execute_result",
          "data": {
            "text/plain": [
              "array([[444.17735732],\n",
              "       [  2.62053888]])"
            ]
          },
          "metadata": {},
          "execution_count": 33
        }
      ]
    },
    {
      "cell_type": "markdown",
      "source": [
        "Модель линейной регрессии имеет вид:\n",
        "\n",
        "$$y = 444.2 + 2.62 \\cdot x$$"
      ],
      "metadata": {
        "id": "IcaVs5g1pL-4"
      }
    },
    {
      "cell_type": "markdown",
      "source": [
        "**2. Визуализируем полученные результаты на графике:**"
      ],
      "metadata": {
        "id": "5UfszE68twSi"
      }
    },
    {
      "cell_type": "code",
      "source": [
        "ox = X\n",
        "oy = b0 + b1 * ox\n",
        "\n",
        "plt.scatter(X, Y)\n",
        "plt.plot(ox, oy, color='red')"
      ],
      "metadata": {
        "colab": {
          "base_uri": "https://localhost:8080/",
          "height": 282
        },
        "id": "y6RfN8o5tljm",
        "outputId": "99e7047f-f822-43f9-e37c-fff7e5b7d32d"
      },
      "execution_count": 34,
      "outputs": [
        {
          "output_type": "execute_result",
          "data": {
            "text/plain": [
              "[<matplotlib.lines.Line2D at 0x7f33ea80eb50>]"
            ]
          },
          "metadata": {},
          "execution_count": 34
        },
        {
          "output_type": "display_data",
          "data": {
            "text/plain": [
              "<Figure size 432x288 with 1 Axes>"
            ],
            "image/png": "[encoded data removed]"
          },
          "metadata": {
            "needs_background": "light"
          }
        }
      ]
    },
    {
      "cell_type": "markdown",
      "source": [
        "**3. Посчитаем коэффициент детерминации. Для этого создадим массив из предсказанных значений:**"
      ],
      "metadata": {
        "id": "MwK5bplTkqq_"
      }
    },
    {
      "cell_type": "code",
      "source": [
        "Z = b0 + b1 * X\n",
        "print(f'real: {Y[:5]}')\n",
        "print(f'pred: {Z[:5]}')"
      ],
      "metadata": {
        "colab": {
          "base_uri": "https://localhost:8080/"
        },
        "id": "upKf4usgz0fc",
        "outputId": "0956732d-04cd-4b06-95b6-75e12d2039b8"
      },
      "execution_count": 35,
      "outputs": [
        {
          "output_type": "stream",
          "name": "stdout",
          "text": [
            "real: [401. 574. 874. 919. 459.]\n",
            "pred: [535.89621821 562.10160703 942.07974498 968.2851338  548.99891262]\n"
          ]
        }
      ]
    },
    {
      "cell_type": "markdown",
      "source": [
        " Коэффициент детерминации:"
      ],
      "metadata": {
        "id": "-E3vw1r_lEbl"
      }
    },
    {
      "cell_type": "code",
      "source": [
        "R1 = Z.var() / Y.var()\n",
        "R1"
      ],
      "metadata": {
        "colab": {
          "base_uri": "https://localhost:8080/"
        },
        "id": "jODvuSdZk4zo",
        "outputId": "d4dedd13-97eb-4f86-90b2-5f45b799b6c2"
      },
      "execution_count": 36,
      "outputs": [
        {
          "output_type": "execute_result",
          "data": {
            "text/plain": [
              "0.7876386635293678"
            ]
          },
          "metadata": {},
          "execution_count": 36
        }
      ]
    },
    {
      "cell_type": "code",
      "source": [
        "np.corrcoef(X, Y) ** 2"
      ],
      "metadata": {
        "colab": {
          "base_uri": "https://localhost:8080/"
        },
        "id": "1loiSYJulAQY",
        "outputId": "6b1e6c7a-5e60-4890-84fb-73cb7a7645c0"
      },
      "execution_count": 37,
      "outputs": [
        {
          "output_type": "execute_result",
          "data": {
            "text/plain": [
              "array([[1.        , 0.78763866],\n",
              "       [0.78763866, 1.        ]])"
            ]
          },
          "metadata": {},
          "execution_count": 37
        }
      ]
    },
    {
      "cell_type": "markdown",
      "source": [
        "Посчитаем среднюю ошибку аппроксимации:"
      ],
      "metadata": {
        "id": "vdswBRw3qJFq"
      }
    },
    {
      "cell_type": "code",
      "source": [
        "def mean_approximation_error(y_real, y_pred):\n",
        "  return np.abs((y_real - y_pred) / y_real).mean()"
      ],
      "metadata": {
        "id": "3Qfjjz5XqLaW"
      },
      "execution_count": 38,
      "outputs": []
    },
    {
      "cell_type": "code",
      "source": [
        "mean_approximation_error(Y, Z)"
      ],
      "metadata": {
        "colab": {
          "base_uri": "https://localhost:8080/"
        },
        "id": "EjAuVz62qguu",
        "outputId": "4996fbc1-7827-4e60-add3-d69ab531896d"
      },
      "execution_count": 39,
      "outputs": [
        {
          "output_type": "execute_result",
          "data": {
            "text/plain": [
              "0.11469251843561709"
            ]
          },
          "metadata": {},
          "execution_count": 39
        }
      ]
    },
    {
      "cell_type": "markdown",
      "source": [
        "**4. Оценка значимости уравнения линейной регрессии с помощью F-критерия Фишера.**"
      ],
      "metadata": {
        "id": "d8rqgeisrCBp"
      }
    },
    {
      "cell_type": "markdown",
      "source": [
        "Соответствующая статистика равна:\n",
        "\n",
        "$$T = \\dfrac{R^2}{1 - R^2} \\cdot \\dfrac{n - k - 1}{k},$$\n",
        "\n",
        "где $R^2$ - коэффициент детерминации, $n$ - число наблюдений, $k$ - число факторов."
      ],
      "metadata": {
        "id": "Ai0Vw_PUsKRC"
      }
    },
    {
      "cell_type": "code",
      "source": [
        "k1 = 1\n",
        "k2 = X.shape[0] - k1 - 1\n",
        "T1 = (R1 / (1 - R1) * (k2 / k1))\n",
        "T1"
      ],
      "metadata": {
        "colab": {
          "base_uri": "https://localhost:8080/"
        },
        "id": "8p6beb9uqono",
        "outputId": "d7d950f0-bea7-4563-d6f9-8830cfccc21f"
      },
      "execution_count": 40,
      "outputs": [
        {
          "output_type": "execute_result",
          "data": {
            "text/plain": [
              "29.67164085966437"
            ]
          },
          "metadata": {},
          "execution_count": 40
        }
      ]
    },
    {
      "cell_type": "markdown",
      "source": [
        "Для уровня значимости $\\alpha = 0.05$ посчитаем по таблице значение $F_{crit} = F(1, 10)$"
      ],
      "metadata": {
        "id": "nD9HfUlstYgc"
      }
    },
    {
      "cell_type": "code",
      "source": [
        "alpha = 0.05\n",
        "F_crit = stats.f.ppf(1 - alpha, k1, k2)\n",
        "F_crit"
      ],
      "metadata": {
        "colab": {
          "base_uri": "https://localhost:8080/"
        },
        "id": "7crok3Q4s4f6",
        "outputId": "fcd37f37-a361-40ea-e24c-a7e36a29f5ca"
      },
      "execution_count": 41,
      "outputs": [
        {
          "output_type": "execute_result",
          "data": {
            "text/plain": [
              "5.317655071578714"
            ]
          },
          "metadata": {},
          "execution_count": 41
        }
      ]
    },
    {
      "cell_type": "markdown",
      "source": [
        "Вывод: имеем $T > F_{crit}$, поэтому уравнение регрессии статистически значимо."
      ],
      "metadata": {
        "id": "j1JYlqEYuIo0"
      }
    },
    {
      "cell_type": "markdown",
      "source": [
        "**5. Оценка значимости получившихся параметров уравнения регрессии и построение для них доверительных интервалов с помощью t-статистики Стьюдента.**"
      ],
      "metadata": {
        "id": "igybZ2dxuk3O"
      }
    },
    {
      "cell_type": "markdown",
      "source": [
        "__Стандартная ошибка коэффициента наклона__ вычисляется по формуле:\n",
        "\n",
        "$$S_{slope} = \\sqrt{\\dfrac{\\frac{1}{n - 2} \\displaystyle\\sum_{i=1}^{n}(y_i - z_i)^2}{\\displaystyle\\sum_{i=1}^n (x_i - \\overline{x})^2}},$$\n",
        "\n",
        "где:\n",
        "* $x$, $x_i$ - соответственно, все значения и конкретное значение фактора\n",
        "* $y_i$ - конкретное значение оцениваемой (целевой) переменной\n",
        "* $z_i$ - \"предсказанное\" значение, полученное с помощью модели регрессии\n",
        "* $n$ - число элементов в выборке"
      ],
      "metadata": {
        "id": "nX3udXDhvi36"
      }
    },
    {
      "cell_type": "code",
      "source": [
        "def standard_error_slope(x, y, z):\n",
        "    n = X.shape[0]\n",
        "\n",
        "    upper = ((y - z) ** 2).sum() / (n - 2)\n",
        "    lower = ((x - x.mean()) ** 2).sum()\n",
        "\n",
        "    return np.sqrt(upper / lower)"
      ],
      "metadata": {
        "id": "kbhFZmgvttVj"
      },
      "execution_count": 53,
      "outputs": []
    },
    {
      "cell_type": "code",
      "source": [
        "s_slope = standard_error_slope(X, Y, Z)\n",
        "s_slope"
      ],
      "metadata": {
        "colab": {
          "base_uri": "https://localhost:8080/"
        },
        "id": "trfm_CC6xtWR",
        "outputId": "a7dd1260-14e0-4e6c-e6c2-d28ea1000933"
      },
      "execution_count": 54,
      "outputs": [
        {
          "output_type": "execute_result",
          "data": {
            "text/plain": [
              "0.48108279568516005"
            ]
          },
          "metadata": {},
          "execution_count": 54
        }
      ]
    },
    {
      "cell_type": "markdown",
      "source": [
        "Зададим уровень значимости $\\alpha = 0.05$. В нашем случае $n = 10$, поэтому нас интересует квантиль $t_{1 - 0.05/2, \\: 8} = 2.306$."
      ],
      "metadata": {
        "id": "nXNbfxHAz_D5"
      }
    },
    {
      "cell_type": "code",
      "source": [
        "T = b1 / s_slope\n",
        "T"
      ],
      "metadata": {
        "colab": {
          "base_uri": "https://localhost:8080/"
        },
        "id": "Of3B4iEjymu3",
        "outputId": "017b54a5-fa1d-49ae-cb8e-a38b2dfa54ea"
      },
      "execution_count": 55,
      "outputs": [
        {
          "output_type": "execute_result",
          "data": {
            "text/plain": [
              "5.447168150485579"
            ]
          },
          "metadata": {},
          "execution_count": 55
        }
      ]
    },
    {
      "cell_type": "markdown",
      "source": [
        "Значение попало в критическую область, значит, значение параметра  $b_1$  является значимым. \n",
        "\n",
        "Доверительный интервал для параметра $b_1$:"
      ],
      "metadata": {
        "id": "3TeeHg_i2C5D"
      }
    },
    {
      "cell_type": "code",
      "source": [
        "t = 2.306\n",
        "(b1 - t * s_slope, b1 + t * s_slope)"
      ],
      "metadata": {
        "colab": {
          "base_uri": "https://localhost:8080/"
        },
        "id": "LplJKrFp15rJ",
        "outputId": "2ff4cd8c-01ac-43c4-e499-5ec400f24f5a"
      },
      "execution_count": 56,
      "outputs": [
        {
          "output_type": "execute_result",
          "data": {
            "text/plain": [
              "(1.5111619555527858, 3.729915809252744)"
            ]
          },
          "metadata": {},
          "execution_count": 56
        }
      ]
    },
    {
      "cell_type": "markdown",
      "source": [
        "Аналогично проверим значимость коэффициента сдвига $b_0$ и построим доверительный интервал для него. Стандартная ошибка коэффициента сдвига вычисляется по формуле:\n",
        "\n",
        "$$S_{intercept} = S_{slope} \\cdot \\sqrt{\\dfrac{1}{n} \\displaystyle\\sum_{i=1}^n x_i^2}.$$"
      ],
      "metadata": {
        "id": "wQSxNaYR4WFJ"
      }
    },
    {
      "cell_type": "code",
      "source": [
        "def standard_error_intercept(x, y, z):\n",
        "    return standard_error_slope(x, y, z) * np.sqrt((x ** 2).mean())"
      ],
      "metadata": {
        "id": "dcpOJpzv2Ule"
      },
      "execution_count": 58,
      "outputs": []
    },
    {
      "cell_type": "code",
      "source": [
        "s_intercept = standard_error_intercept(X, Y, Z)\n",
        "s_intercept"
      ],
      "metadata": {
        "colab": {
          "base_uri": "https://localhost:8080/"
        },
        "id": "ivctfEfn3kOk",
        "outputId": "cf762927-4823-4899-8189-8c84ba8ca84d"
      },
      "execution_count": 60,
      "outputs": [
        {
          "output_type": "execute_result",
          "data": {
            "text/plain": [
              "56.46649755068153"
            ]
          },
          "metadata": {},
          "execution_count": 60
        }
      ]
    },
    {
      "cell_type": "markdown",
      "source": [
        "Значение статистики $T$:"
      ],
      "metadata": {
        "id": "sCiXmzbX4rUN"
      }
    },
    {
      "cell_type": "code",
      "source": [
        "T = b0 / s_intercept\n",
        "T"
      ],
      "metadata": {
        "colab": {
          "base_uri": "https://localhost:8080/"
        },
        "id": "C5Yy1OUd3vKc",
        "outputId": "15a36739-9bf5-4309-e1f5-3da82a493bf3"
      },
      "execution_count": 61,
      "outputs": [
        {
          "output_type": "execute_result",
          "data": {
            "text/plain": [
              "7.866210524668863"
            ]
          },
          "metadata": {},
          "execution_count": 61
        }
      ]
    },
    {
      "cell_type": "markdown",
      "source": [
        "Значение попало в критическую область, значит, значение параметра $b_0$ является значимым.\n",
        "\n",
        "Доверительный интервал для параметра $b_0$:"
      ],
      "metadata": {
        "id": "e3-oQL3d6IFo"
      }
    },
    {
      "cell_type": "code",
      "source": [
        "(b0 - t * s_intercept, b0 + t * s_intercept)"
      ],
      "metadata": {
        "colab": {
          "base_uri": "https://localhost:8080/"
        },
        "id": "m5WzHO834wty",
        "outputId": "dde7b759-5534-424a-df09-350bd724a17d"
      },
      "execution_count": 62,
      "outputs": [
        {
          "output_type": "execute_result",
          "data": {
            "text/plain": [
              "(313.965613972488, 574.3891006762312)"
            ]
          },
          "metadata": {},
          "execution_count": 62
        }
      ]
    },
    {
      "cell_type": "markdown",
      "source": [
        "__Задача 2__\n",
        "\n",
        "В каких случаях для вычисления доверительных интервалов и проверки статистических гипотез используется таблица значений функции Лапласа, а в каких - таблица квантилей распределения Стьюдента?"
      ],
      "metadata": {
        "id": "ewbrWfil65KV"
      }
    },
    {
      "cell_type": "markdown",
      "source": [
        "Теория малых выборок разработана английским статистиком В. Госсетом (писавшим под псевдонимом Стьюдент) в начале XX в. \n",
        "\n",
        "В 1908 г. им построено специальное распределение, которое позволяет и при малых выборках соотносить (t) и доверительную вероятность F(t). \n",
        "\n",
        "При (n) > 100, таблицы распределения Стьюдента дают те же результаты, что и таблицы интеграла вероятностей Лапласа.\n",
        "\n",
        "При 30 < (n) < 100 различия незначительны. \n",
        "\n",
        "При (n) < 30 погрешность таблицы интеграла вероятностей Лапласа становится значительной."
      ],
      "metadata": {
        "id": "_ZBcHOn89blY"
      }
    }
  ]
}